{
 "cells": [
  {
   "attachments": {},
   "cell_type": "markdown",
   "metadata": {},
   "source": [
    "ch 3-8-1 Create Linked-List"
   ]
  },
  {
   "cell_type": "code",
   "execution_count": 1,
   "metadata": {},
   "outputs": [
    {
     "name": "stdout",
     "output_type": "stream",
     "text": [
      "5\n",
      "15\n",
      "25\n"
     ]
    }
   ],
   "source": [
    "class Node:\n",
    "    def __init__(self, data=None):\n",
    "        self.data = data  # 資料\n",
    "        self.next = None  # 指標\n",
    "\n",
    "n1 = Node(5)\n",
    "n2 = Node(15)\n",
    "n3 = Node(25)\n",
    "n1.next = n2\n",
    "n2.next = n3\n",
    "ptr = n1  # 建立指標節點 (start)\n",
    "\n",
    "while ptr:\n",
    "    print(ptr.data)\n",
    "    ptr = ptr.next  # 移動指標到下一個節點"
   ]
  },
  {
   "attachments": {},
   "cell_type": "markdown",
   "metadata": {},
   "source": [
    "ch 3-8-2 建立鏈結串列類別和遍歷此鏈結串列"
   ]
  },
  {
   "cell_type": "code",
   "execution_count": 5,
   "metadata": {},
   "outputs": [
    {
     "name": "stdout",
     "output_type": "stream",
     "text": [
      "5\n",
      "15\n",
      "25\n"
     ]
    }
   ],
   "source": [
    "class Node():\n",
    "    def __init__(self, data=None):\n",
    "        self.data= data\n",
    "        self.next = None\n",
    "\n",
    "class Linked_list():\n",
    "    def __init__(self):\n",
    "        self.head = None  # 鏈結串列第一個節點\n",
    "    def print_list(self):\n",
    "        ptr = self.head\n",
    "        while ptr:\n",
    "            print(ptr.data)\n",
    "            ptr = ptr.next\n",
    "\n",
    "link = Linked_list()\n",
    "link.head = Node(5)\n",
    "n2 = Node(15)\n",
    "n3 = Node(25)\n",
    "link.head.next = n2\n",
    "n2.next = n3\n",
    "link.print_list()"
   ]
  },
  {
   "attachments": {},
   "cell_type": "markdown",
   "metadata": {},
   "source": [
    "ch 3-8-3  Insert a new Node infront of the start node"
   ]
  },
  {
   "cell_type": "code",
   "execution_count": 6,
   "metadata": {},
   "outputs": [
    {
     "name": "stdout",
     "output_type": "stream",
     "text": [
      "5\n",
      "15\n",
      "25\n",
      "新的 Linked-List\n",
      "100\n",
      "5\n",
      "15\n",
      "25\n"
     ]
    }
   ],
   "source": [
    "class Node:\n",
    "    def __init__(self, data=None):\n",
    "        self.data = data\n",
    "        self.next = None\n",
    "class Linked_list:\n",
    "    def __init__(self):\n",
    "        self.head = None\n",
    "    def print_list(self):\n",
    "        ptr = self.head\n",
    "        while ptr:\n",
    "            print(ptr.data)\n",
    "            ptr = ptr.next\n",
    "\n",
    "    def begining(self, newdata):\n",
    "        new_node = Node(newdata)\n",
    "        new_node.next = self.head\n",
    "        self.head = new_node\n",
    "\n",
    "link = Linked_list()\n",
    "link.head = Node(5)\n",
    "n2 = Node(15)\n",
    "n3 = Node(25)\n",
    "link.head.next = n2\n",
    "n2.next = n3\n",
    "link.print_list()\n",
    "print('新的 Linked-List')\n",
    "link.begining(100)\n",
    "link.print_list()"
   ]
  },
  {
   "attachments": {},
   "cell_type": "markdown",
   "metadata": {},
   "source": [
    "ch 3-8-4 Insert a new node behind the last node"
   ]
  },
  {
   "cell_type": "code",
   "execution_count": 1,
   "metadata": {},
   "outputs": [
    {
     "name": "stdout",
     "output_type": "stream",
     "text": [
      "5\n",
      "15\n",
      "25\n",
      "new link list\n",
      "5\n",
      "15\n",
      "25\n",
      "100\n"
     ]
    }
   ],
   "source": [
    "class Node:\n",
    "    def __init__(self, data=None):\n",
    "        self.data = data\n",
    "        self.next = None\n",
    "\n",
    "class Linked_list:\n",
    "    def __init__(self):\n",
    "        self.head = None\n",
    "    def print_list(self):\n",
    "        ptr = self.head\n",
    "        while ptr:\n",
    "            print(ptr.data)\n",
    "            ptr = ptr.next\n",
    "    def ending(self, data):\n",
    "        new_node = Node(data)\n",
    "        if self.head == None:  # 如果成立, 代表 linked-list 為空\n",
    "            self.head = new_node  # 將新節點設為 head 並 return\n",
    "            return  \n",
    "        last_ptr = self.head  # 設定鏈結指標為鏈接串列頭部\n",
    "        while last_ptr.next:  # 只要還有下一個就往下移\n",
    "            last_ptr = last_ptr.next\n",
    "        last_ptr.next = new_node  # 最後將原本串列的最後一個指標指向新節點\n",
    "\n",
    "link = Linked_list()\n",
    "link.head = Node(5)\n",
    "n2 = Node(15)\n",
    "n3 = Node(25)\n",
    "link.head.next = n2\n",
    "n2.next = n3\n",
    "link.print_list()\n",
    "print('new link list')\n",
    "link.ending(100)\n",
    "link.print_list()"
   ]
  },
  {
   "attachments": {},
   "cell_type": "markdown",
   "metadata": {},
   "source": [
    "ch 3-8-5 Inset new node between linked-list nodes"
   ]
  },
  {
   "cell_type": "code",
   "execution_count": 2,
   "metadata": {},
   "outputs": [
    {
     "name": "stdout",
     "output_type": "stream",
     "text": [
      "5\n",
      "15\n",
      "25\n",
      "new link list\n",
      "5\n",
      "15\n",
      "100\n",
      "25\n"
     ]
    }
   ],
   "source": [
    "class Node:\n",
    "    def __init__(self, data=None):\n",
    "        self.data = data\n",
    "        self.next = None\n",
    "\n",
    "class Linked_list:\n",
    "    def __init__(self):\n",
    "        self.head = None\n",
    "    def print_list(self):\n",
    "        ptr = self.head\n",
    "        while ptr:\n",
    "            print(ptr.data)\n",
    "            ptr = ptr.next\n",
    "    def middle(self, pre_node, new_data):\n",
    "        if pre_node == None:              # 如果前面不存在\n",
    "            print('no node infront')\n",
    "        new_node = Node(new_data)     \n",
    "        new_node.next = pre_node.next     # 先將原本前面的 node 連結的 next 給新的 node 的 next\n",
    "        pre_node.next = new_node          # 再將新的 node 變成 原本的 node 的 next\n",
    "\n",
    "link = Linked_list()\n",
    "link.head = Node(5)\n",
    "n2 = Node(15)\n",
    "n3 = Node(25)\n",
    "link.head.next = n2\n",
    "n2.next = n3\n",
    "link.print_list()\n",
    "print('new link list')\n",
    "link.middle(n2, 100)\n",
    "link.print_list()  "
   ]
  },
  {
   "attachments": {},
   "cell_type": "markdown",
   "metadata": {},
   "source": [
    "3-8-6 remove specified node "
   ]
  },
  {
   "cell_type": "code",
   "execution_count": 6,
   "metadata": {},
   "outputs": [
    {
     "name": "stdout",
     "output_type": "stream",
     "text": [
      "5\n",
      "15\n",
      "25\n",
      "new link list\n",
      "5\n",
      "25\n"
     ]
    }
   ],
   "source": [
    "class Node:\n",
    "    def __init__(self, data=None):\n",
    "        self.data = data\n",
    "        self.next = None\n",
    "\n",
    "class Linked_list:\n",
    "    def __init__(self):\n",
    "        self.head = None\n",
    "    def print_list(self):\n",
    "        ptr = self.head\n",
    "        while ptr:\n",
    "            print(ptr.data)\n",
    "            ptr = ptr.next\n",
    "    def remove_node(self, rm_node):\n",
    "        ptr = self.head\n",
    "        if ptr:\n",
    "            if ptr.data == rm_node:       # 如果要刪除的資料為頭部\n",
    "                self.head = ptr.next      # 將頭部移到下一個\n",
    "                return\n",
    "        while ptr:\n",
    "            if ptr.data == rm_node:       # 如果要刪除的在中間\n",
    "                break                     # 這邊 break 之後 下面的 prev 仍會是上一個 ptr \n",
    "            prev = ptr                    # 設定前一節點指標\n",
    "            ptr = ptr.next                # 移動指標\n",
    "        if ptr == None:                   # 如果是尾端則返回\n",
    "                return\n",
    "        prev.next = ptr.next              # 將前一節點的指標連到刪除節點的後一節點\n",
    "link = Linked_list()\n",
    "link.head = Node(5)\n",
    "n2 = Node(15)\n",
    "n3 = Node(25)\n",
    "link.head.next = n2\n",
    "n2.next = n3\n",
    "link.print_list()     \n",
    "print('new link list')\n",
    "link.remove_node(15)\n",
    "link.print_list()      \n"
   ]
  },
  {
   "attachments": {},
   "cell_type": "markdown",
   "metadata": {},
   "source": [
    "3-8-7 create a circle link list"
   ]
  },
  {
   "cell_type": "code",
   "execution_count": 7,
   "metadata": {},
   "outputs": [
    {
     "name": "stdout",
     "output_type": "stream",
     "text": [
      "5\n",
      "15\n",
      "25\n",
      "5\n",
      "15\n",
      "25\n"
     ]
    }
   ],
   "source": [
    "class Node:\n",
    "    def __init__(self, data=None):\n",
    "        self.data = data\n",
    "        self.next = None\n",
    "\n",
    "n1 = Node(5)\n",
    "n2 = Node(15)\n",
    "n3 = Node(25)\n",
    "n1.next = n2\n",
    "n2.next = n3\n",
    "n3.next = n1\n",
    "\n",
    "ptr = n1\n",
    "counter = 1\n",
    "while counter <= 6 :\n",
    "    print(ptr.data)\n",
    "    ptr = ptr.next\n",
    "    counter +=1 "
   ]
  },
  {
   "attachments": {},
   "cell_type": "markdown",
   "metadata": {},
   "source": [
    "ch 3-8-8 double linked list"
   ]
  },
  {
   "cell_type": "code",
   "execution_count": 8,
   "metadata": {},
   "outputs": [
    {
     "name": "stdout",
     "output_type": "stream",
     "text": [
      "list from head\n",
      "5\n",
      "list from head\n",
      "5\n",
      "15\n",
      "list from head\n",
      "5\n",
      "15\n",
      "25\n",
      "list from tail\n",
      "25\n",
      "15\n",
      "5\n"
     ]
    }
   ],
   "source": [
    "class Node:\n",
    "    def __init__(self, data=None):\n",
    "        self.data = data\n",
    "        self.next = None\n",
    "        self.prev = None\n",
    "\n",
    "class Double_Link_list:\n",
    "    def __init__(self):\n",
    "        self.head = None\n",
    "        self.tail = None\n",
    "\n",
    "    def add_double_list(self, new_node):\n",
    "        if isinstance(new_node, Node):  # isinstance(object, class) 判斷函數是否為已知類型,  類似 type\n",
    "            if self.head == None:\n",
    "                self.head = new_node     # 如果 head 不存在將 new_node 視為 head\n",
    "                new_node.prev = None\n",
    "                new_node.next = None\n",
    "                self.tail = new_node     # 尾節點也是 new_node\n",
    "            else:\n",
    "                self.tail.next = new_node    # 將尾節點的 next 指向 new_node\n",
    "                new_node.prev = self.tail     # 將 new_node 的前面指向尾節點\n",
    "                self.tail = new_node        # 將尾節點設為 new_node\n",
    "        return\n",
    "\n",
    "    def print_list_from_head(self):\n",
    "        ptr = self.head\n",
    "        while ptr:\n",
    "            print(ptr.data)\n",
    "            ptr = ptr.next\n",
    "\n",
    "    def print_list_from_tail(self):\n",
    "        ptr = self.tail\n",
    "        while ptr:\n",
    "            print(ptr.data)\n",
    "            ptr = ptr.prev\n",
    "\n",
    "double_link = Double_Link_list()\n",
    "n1 = Node(5)\n",
    "n2 = Node(15)\n",
    "n3 = Node(25)\n",
    "\n",
    "for n in [n1, n2, n3]:\n",
    "    double_link.add_double_list(n)\n",
    "    print('list from head')\n",
    "    double_link.print_list_from_head()\n",
    "    \n",
    "print('list from tail')\n",
    "double_link.print_list_from_tail()"
   ]
  },
  {
   "attachments": {},
   "cell_type": "markdown",
   "metadata": {},
   "source": [
    "### 習題"
   ]
  },
  {
   "attachments": {},
   "cell_type": "markdown",
   "metadata": {},
   "source": [
    "新增 length 方法計算 linked list 長度"
   ]
  },
  {
   "cell_type": "code",
   "execution_count": 10,
   "metadata": {},
   "outputs": [
    {
     "name": "stdout",
     "output_type": "stream",
     "text": [
      "5\n",
      "15\n",
      "25\n",
      "Length of Linked-list : 3\n"
     ]
    }
   ],
   "source": [
    "class Node():\n",
    "    def __init__(self, data=None):\n",
    "        self.data= data\n",
    "        self.next = None\n",
    "\n",
    "class Linked_list():\n",
    "    def __init__(self):\n",
    "        self.head = None  # 鏈結串列第一個節點\n",
    "    def print_list(self):\n",
    "        ptr = self.head\n",
    "        while ptr:\n",
    "            print(ptr.data)\n",
    "            ptr = ptr.next\n",
    "    def length(self):\n",
    "        ptr = self.head\n",
    "        count = 0\n",
    "        while ptr:\n",
    "            count+=1\n",
    "            ptr = ptr.next\n",
    "        return count\n",
    "link = Linked_list()\n",
    "link.head = Node(5)\n",
    "n2 = Node(15)\n",
    "n3 = Node(25)\n",
    "link.head.next = n2\n",
    "n2.next = n3\n",
    "link.print_list()\n",
    "print('Length of Linked-list :', link.length())"
   ]
  },
  {
   "attachments": {},
   "cell_type": "markdown",
   "metadata": {},
   "source": [
    "Create linked-list contains 3 nodes, datas are 5, 15, 15. Design a search method for counting the datas appearance in the same time ."
   ]
  },
  {
   "cell_type": "code",
   "execution_count": 13,
   "metadata": {},
   "outputs": [
    {
     "name": "stdout",
     "output_type": "stream",
     "text": [
      "linked-list\n",
      "5\n",
      "15\n",
      "15\n"
     ]
    },
    {
     "data": {
      "text/plain": [
       "{5: 1, 15: 2, 20: 0}"
      ]
     },
     "execution_count": 13,
     "metadata": {},
     "output_type": "execute_result"
    }
   ],
   "source": [
    "class Node():\n",
    "    def __init__(self, data=None):\n",
    "        self.data= data\n",
    "        self.next = None\n",
    "\n",
    "class Linked_list():\n",
    "    def __init__(self):\n",
    "        self.head = None  # 鏈結串列第一個節點\n",
    "    def print_list(self):\n",
    "        ptr = self.head\n",
    "        while ptr:\n",
    "            print(ptr.data)\n",
    "            ptr = ptr.next\n",
    "    def searching(self):\n",
    "        count = {5: 0, 15: 0, 20:0}\n",
    "        ptr = self.head\n",
    "        while ptr:\n",
    "            count[ptr.data] += 1\n",
    "            ptr = ptr.next\n",
    "        return count\n",
    "\n",
    "\n",
    "link = Linked_list()\n",
    "link.head = Node(5)\n",
    "n2 = Node(15)\n",
    "n3 = Node(15)\n",
    "link.head.next = n2\n",
    "n2.next = n3\n",
    "print('linked-list')\n",
    "link.print_list()\n",
    "link.searching()\n",
    "\n"
   ]
  },
  {
   "attachments": {},
   "cell_type": "markdown",
   "metadata": {},
   "source": [
    "Create a Double-Linked-List contains days of week, print it from head and from tail"
   ]
  },
  {
   "cell_type": "code",
   "execution_count": 14,
   "metadata": {},
   "outputs": [
    {
     "name": "stdout",
     "output_type": "stream",
     "text": [
      "from head\n",
      "Mon\n",
      "Tue\n",
      "Wed\n",
      "Thu\n",
      "Fri\n",
      "Sat\n",
      "Sun\n",
      "from tail\n",
      "Sun\n",
      "Sat\n",
      "Fri\n",
      "Thu\n",
      "Wed\n",
      "Tue\n",
      "Mon\n"
     ]
    }
   ],
   "source": [
    "class Node:\n",
    "    def __init__(self, data=None):\n",
    "        self.data = data\n",
    "        self.next = None\n",
    "        self.prev = None\n",
    "\n",
    "class Double_linked_list:\n",
    "    def add_double_linked_list(self, new_node):\n",
    "        if isinstance(new_node, Node):\n",
    "            if self.head == None:\n",
    "                self.head = new_node\n",
    "                new_node.next = None\n",
    "                new_node.prev = None\n",
    "                self.tail = new_node\n",
    "            else:\n",
    "                self.tail.next = new_node\n",
    "                new_node.prev = self.tail\n",
    "                self.tail = new_node\n",
    "        return\n",
    "\n",
    "    def print_list_from_head(self):\n",
    "        ptr = self.head\n",
    "        while ptr:\n",
    "            print(ptr.data)\n",
    "            ptr = ptr.next\n",
    "\n",
    "    def print_list_from_tail(self):\n",
    "        ptr = self.tail\n",
    "        while ptr:\n",
    "            print(ptr.data)\n",
    "            ptr = ptr.prev\n",
    "\n",
    "double_link = Double_Link_list()\n",
    "n1 = Node('Mon')\n",
    "n2 = Node('Tue')\n",
    "n3 = Node('Wed')\n",
    "n4 = Node('Thu')\n",
    "n5 = Node('Fri')\n",
    "n6 = Node('Sat')\n",
    "n7 = Node('Sun')\n",
    "for n in [n1, n2, n3, n4, n5, n6, n7]:\n",
    "    double_link.add_double_list(n)\n",
    "print('from head')\n",
    "double_link.print_list_from_head() \n",
    "print('from tail')\n",
    "double_link.print_list_from_tail()"
   ]
  },
  {
   "cell_type": "code",
   "execution_count": null,
   "metadata": {},
   "outputs": [],
   "source": []
  }
 ],
 "metadata": {
  "kernelspec": {
   "display_name": "LeetCode",
   "language": "python",
   "name": "python3"
  },
  "language_info": {
   "codemirror_mode": {
    "name": "ipython",
    "version": 3
   },
   "file_extension": ".py",
   "mimetype": "text/x-python",
   "name": "python",
   "nbconvert_exporter": "python",
   "pygments_lexer": "ipython3",
   "version": "3.10.8 (main, Nov 24 2022, 14:13:03) [GCC 11.2.0]"
  },
  "orig_nbformat": 4,
  "vscode": {
   "interpreter": {
    "hash": "f6bc879a1385e8122ad46fe8597f2eccbe0c3a28a29ee913b33b5a9ee828dd15"
   }
  }
 },
 "nbformat": 4,
 "nbformat_minor": 2
}
