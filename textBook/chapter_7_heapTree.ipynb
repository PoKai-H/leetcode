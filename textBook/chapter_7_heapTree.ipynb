{
 "cells": [
  {
   "attachments": {},
   "cell_type": "markdown",
   "metadata": {},
   "source": [
    "7-4 Min-Heap Using Array\n",
    "10, 21, 5, 9, 13, 28, 3"
   ]
  },
  {
   "cell_type": "code",
   "execution_count": 18,
   "metadata": {},
   "outputs": [
    {
     "name": "stdout",
     "output_type": "stream",
     "text": [
      "[10, 21, 3, 9, 13, 28, 5]\n",
      "[10, 9, 3, 21, 13, 28, 5]\n",
      "[3, 9, 5, 21, 13, 28, 10]\n",
      "Array representation of Heap is:\n",
      "3 9 5 21 13 28 10 \n"
     ]
    }
   ],
   "source": [
    "def heapify(datas, i):\n",
    "    smallest = i\n",
    "    left_sub = 2*i+1\n",
    "    right_sub = 2*i+2\n",
    "    if left_sub < len(datas) and datas[left_sub]< datas[smallest]:\n",
    "        smallest = left_sub\n",
    "    if right_sub < len(datas) and datas[right_sub]< datas[smallest]:\n",
    "        smallest = right_sub\n",
    "    if smallest != i:\n",
    "        datas[i], datas[smallest] = datas[smallest], datas[i]\n",
    "        heapify(datas, smallest)\n",
    "def create_heap(datas):\n",
    "    start_idx = len(datas)//2-1\n",
    "    for i in range(start_idx, -1, -1):\n",
    "        heapify(datas, i)\n",
    "        print(datas)\n",
    "\n",
    "def printHeap(arr):\n",
    "    print(\"Array representation of Heap is:\")\n",
    "  \n",
    "    for i in range(len(arr)):\n",
    "        print(arr[i], end=\" \")\n",
    "    print()\n",
    "\n",
    "datas = [10, 21, 5, 9, 13, 28, 3]\n",
    "create_heap(datas)\n",
    "printHeap(datas)"
   ]
  },
  {
   "attachments": {},
   "cell_type": "markdown",
   "metadata": {},
   "source": [
    "習題"
   ]
  },
  {
   "attachments": {},
   "cell_type": "markdown",
   "metadata": {},
   "source": [
    "7-7-1 每插入一個元素印出串列"
   ]
  },
  {
   "cell_type": "code",
   "execution_count": 39,
   "metadata": {},
   "outputs": [
    {
     "name": "stdout",
     "output_type": "stream",
     "text": [
      "[10]\n",
      "[10, 21]\n",
      "[5, 21, 10]\n",
      "[5, 9, 10, 21]\n",
      "[5, 9, 10, 21, 13]\n",
      "[5, 9, 10, 21, 13, 28]\n",
      "[3, 9, 5, 21, 13, 28, 10]\n"
     ]
    }
   ],
   "source": [
    "def heapify(arr, i):\n",
    "    smallest = i\n",
    "    l = 2*i+1\n",
    "    r = 2*i+2\n",
    "    if l< len(arr) and arr[l]<arr[smallest]:\n",
    "        smallest = l\n",
    "    if r < len(arr) and arr[r] < arr[smallest]:\n",
    "        smallest = r\n",
    "    if smallest != i:\n",
    "        arr[smallest], arr[i] = arr[i], arr[smallest]\n",
    "        heapify(arr, smallest)\n",
    "def create_heap(arr):\n",
    "    tree = []\n",
    "    start_idx = len(datas)//2-1\n",
    "    level = 1\n",
    "    for i in range(len(datas)):\n",
    "        tree.append(datas[i])\n",
    "        if i%2 !=0:\n",
    "            for i in range(i//2, -1, -1):\n",
    "                heapify(tree, i)\n",
    "        else:\n",
    "            for i in range(i//2-1, -1, -1):\n",
    "                heapify(tree, i)\n",
    "        \n",
    "        print(tree)\n",
    "    \n",
    "   \n",
    "\n",
    "\n",
    "\n",
    "\n",
    "datas = [10, 21, 5, 9, 13, 28, 3]\n",
    "create_heap(datas)\n"
   ]
  },
  {
   "attachments": {},
   "cell_type": "markdown",
   "metadata": {},
   "source": [
    "7-9-1 pop min node in heap tree "
   ]
  },
  {
   "cell_type": "code",
   "execution_count": 64,
   "metadata": {},
   "outputs": [
    {
     "name": "stdout",
     "output_type": "stream",
     "text": [
      "before pop min\n",
      "3 9 5 21 13 28 10 \n",
      "after pop min\n",
      "5 9 10 21 13 28 "
     ]
    }
   ],
   "source": [
    "def heapify(arr, i):\n",
    "    smallest = i\n",
    "    l = 2*i+1\n",
    "    r = 2*i+2\n",
    "    if l < len(arr) and arr[l] < arr[smallest]:\n",
    "        smallest = l\n",
    "    if r < len(arr) and arr[r] < arr[smallest]:\n",
    "        smallest = r\n",
    "    if smallest != i :\n",
    "        arr[i], arr[smallest] = arr[smallest], arr[i]\n",
    "        heapify(arr, smallest)\n",
    "\n",
    "\n",
    "def create_heap(arr):\n",
    "    start_idx = len(arr)//2-1\n",
    "    for i in range(start_idx, -1, -1):\n",
    "        heapify(arr, i)\n",
    "\n",
    "def print_heap(arr):\n",
    "    for i in range(len(arr)):\n",
    "        print(arr[i], end=\" \")\n",
    "\n",
    "def pop_min(arr):\n",
    "    arr.pop(0)\n",
    "    arr.insert(0,arr[-1])\n",
    "    arr.pop()\n",
    "    return create_heap(arr)\n",
    "    \n",
    "\n",
    "datas = [10, 21, 5, 9, 13, 28, 3]\n",
    "create_heap(datas)\n",
    "print(\"before pop min\")\n",
    "print_heap(datas)\n",
    "pop_min(datas)\n",
    "print()\n",
    "print(\"after pop min\")\n",
    "print_heap(datas)\n"
   ]
  },
  {
   "cell_type": "code",
   "execution_count": 66,
   "metadata": {},
   "outputs": [
    {
     "name": "stdout",
     "output_type": "stream",
     "text": [
      "[10, 21, 5, 9, 13, 28, 3]\n",
      "3 9 5 21 13 28 10 \n",
      "插入 2 後堆積樹串列:\n",
      "2 3 5 9 13 28 10 21 \n",
      "插入 1 後堆積樹串列:\n",
      "1 2 5 3 13 28 10 21 9 \n",
      "插入 6 後堆積樹串列:\n",
      "1 2 5 3 6 28 10 21 9 13 \n"
     ]
    }
   ],
   "source": [
    "def heapify(arr, i):\n",
    "    smallest = i\n",
    "    l = 2*i+1\n",
    "    r = 2*i+2\n",
    "    if l < len(arr) and arr[l] < arr[smallest]:\n",
    "        smallest = l\n",
    "    if r < len(arr) and arr[r] < arr[smallest]:\n",
    "        smallest = r\n",
    "    if smallest != i:\n",
    "        arr[smallest], arr[i] = arr[i], arr[smallest]\n",
    "        heapify(arr, smallest)\n",
    "\n",
    "def create_heap(arr):\n",
    "    start_idx = len(arr)//2-1\n",
    "    for i in range(start_idx, -1, -1):\n",
    "        heapify(arr, i) \n",
    "\n",
    "def print_heap(arr):\n",
    "    for i in range(len(arr)):\n",
    "        print(arr[i], end=\" \")\n",
    "    print()\n",
    "\n",
    "def push_num(arr, num):\n",
    "    arr.append(num)\n",
    "    return create_heap(arr)\n",
    "\n",
    "\n",
    "datas = [10, 21, 5, 9, 13, 28, 3]\n",
    "print(datas)\n",
    "create_heap(datas)\n",
    "print_heap(datas)\n",
    "push_num(datas, 2)\n",
    "print(\"插入 2 後堆積樹串列:\")\n",
    "print_heap(datas)\n",
    "push_num(datas, 1)\n",
    "print(\"插入 1 後堆積樹串列:\")\n",
    "print_heap(datas)\n",
    "push_num(datas, 6)\n",
    "print(\"插入 6 後堆積樹串列:\" )\n",
    "print_heap(datas)"
   ]
  },
  {
   "cell_type": "code",
   "execution_count": null,
   "metadata": {},
   "outputs": [],
   "source": []
  }
 ],
 "metadata": {
  "kernelspec": {
   "display_name": "LeetCode",
   "language": "python",
   "name": "python3"
  },
  "language_info": {
   "codemirror_mode": {
    "name": "ipython",
    "version": 3
   },
   "file_extension": ".py",
   "mimetype": "text/x-python",
   "name": "python",
   "nbconvert_exporter": "python",
   "pygments_lexer": "ipython3",
   "version": "3.10.8"
  },
  "orig_nbformat": 4,
  "vscode": {
   "interpreter": {
    "hash": "f6bc879a1385e8122ad46fe8597f2eccbe0c3a28a29ee913b33b5a9ee828dd15"
   }
  }
 },
 "nbformat": 4,
 "nbformat_minor": 2
}
