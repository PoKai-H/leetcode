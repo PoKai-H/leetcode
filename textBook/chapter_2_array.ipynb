{
 "cells": [
  {
   "attachments": {},
   "cell_type": "markdown",
   "metadata": {},
   "source": [
    "ch 2-6-1 Create Array"
   ]
  },
  {
   "cell_type": "code",
   "execution_count": 1,
   "metadata": {},
   "outputs": [
    {
     "name": "stdout",
     "output_type": "stream",
     "text": [
      "5\n",
      "15\n",
      "25\n",
      "35\n",
      "45\n"
     ]
    }
   ],
   "source": [
    "from array import *\n",
    "x = array('i', [5, 15, 25, 35, 45]) # i = 有號整數 signed int\n",
    "for data in x:\n",
    "    print(data)"
   ]
  },
  {
   "attachments": {},
   "cell_type": "markdown",
   "metadata": {},
   "source": [
    "ch 2-6-2 Read"
   ]
  },
  {
   "cell_type": "code",
   "execution_count": 2,
   "metadata": {},
   "outputs": [
    {
     "name": "stdout",
     "output_type": "stream",
     "text": [
      "5\n",
      "25\n",
      "45\n"
     ]
    }
   ],
   "source": [
    "print(x[0])\n",
    "print(x[2])\n",
    "print(x[4])"
   ]
  },
  {
   "attachments": {},
   "cell_type": "markdown",
   "metadata": {},
   "source": [
    "ch 2-6-3 Insert"
   ]
  },
  {
   "cell_type": "code",
   "execution_count": 7,
   "metadata": {},
   "outputs": [
    {
     "name": "stdout",
     "output_type": "stream",
     "text": [
      "5\n",
      "15\n",
      "100\n",
      "35\n",
      "45\n",
      "100\n"
     ]
    }
   ],
   "source": [
    "x.insert(2, 100)  # x.insert(index, num)\n",
    "for data in x:\n",
    "    print(data)"
   ]
  },
  {
   "cell_type": "code",
   "execution_count": 4,
   "metadata": {},
   "outputs": [
    {
     "name": "stdout",
     "output_type": "stream",
     "text": [
      "5\n",
      "15\n",
      "100\n",
      "25\n",
      "35\n",
      "45\n",
      "100\n"
     ]
    }
   ],
   "source": [
    "x.append(100)  # append 會直接插在 array 最後面\n",
    "for data in x:\n",
    "    print(data)"
   ]
  },
  {
   "attachments": {},
   "cell_type": "markdown",
   "metadata": {},
   "source": [
    "ch 2-6-4 Delete"
   ]
  },
  {
   "cell_type": "code",
   "execution_count": 5,
   "metadata": {},
   "outputs": [
    {
     "name": "stdout",
     "output_type": "stream",
     "text": [
      "5\n",
      "15\n",
      "100\n",
      "35\n",
      "45\n",
      "100\n"
     ]
    }
   ],
   "source": [
    "x.remove(25)\n",
    "for data in x:\n",
    "    print(data)"
   ]
  },
  {
   "cell_type": "code",
   "execution_count": 9,
   "metadata": {},
   "outputs": [
    {
     "name": "stdout",
     "output_type": "stream",
     "text": [
      "5\n",
      "15\n",
      "35\n",
      "45\n",
      "100\n"
     ]
    }
   ],
   "source": [
    "x.remove(100)  # 有兩個相同數值會先刪除 index 靠前面的 , 且不能指定位置\n",
    "for data in x:\n",
    "    print(data)"
   ]
  },
  {
   "cell_type": "code",
   "execution_count": 10,
   "metadata": {},
   "outputs": [
    {
     "name": "stdout",
     "output_type": "stream",
     "text": [
      "delete 100\n",
      "5\n",
      "15\n",
      "35\n",
      "45\n"
     ]
    }
   ],
   "source": [
    "n = x.pop()  # 單純 pop 會刪除 array 最後一個數值\n",
    "print(f'delete {n}')\n",
    "for data in x:\n",
    "    print(data)"
   ]
  },
  {
   "cell_type": "code",
   "execution_count": 11,
   "metadata": {},
   "outputs": [
    {
     "name": "stdout",
     "output_type": "stream",
     "text": [
      "delete 35\n",
      "5\n",
      "15\n",
      "45\n"
     ]
    }
   ],
   "source": [
    "n = x.pop(2)  # 放入數值可以刪除指定 index\n",
    "print(f'delete {n}')\n",
    "for data in x:\n",
    "    print(data)"
   ]
  },
  {
   "attachments": {},
   "cell_type": "markdown",
   "metadata": {},
   "source": [
    "ch 2-6-5 Search"
   ]
  },
  {
   "cell_type": "code",
   "execution_count": 12,
   "metadata": {},
   "outputs": [
    {
     "name": "stdout",
     "output_type": "stream",
     "text": [
      "2\n"
     ]
    }
   ],
   "source": [
    "i = x.index(45)  # .index(num) 可以傳回指定數字的 index\n",
    "print(i)"
   ]
  },
  {
   "attachments": {},
   "cell_type": "markdown",
   "metadata": {},
   "source": [
    "2-6-6 更改索引內容"
   ]
  },
  {
   "cell_type": "code",
   "execution_count": 13,
   "metadata": {},
   "outputs": [
    {
     "name": "stdout",
     "output_type": "stream",
     "text": [
      "5\n",
      "15\n",
      "100\n"
     ]
    }
   ],
   "source": [
    "x[2] = 100\n",
    "for data in x:\n",
    "    print(data)"
   ]
  },
  {
   "attachments": {},
   "cell_type": "markdown",
   "metadata": {},
   "source": [
    "ch 2-7 習題"
   ]
  },
  {
   "attachments": {},
   "cell_type": "markdown",
   "metadata": {},
   "source": [
    "1. 請為 1.0, 2.0, 5.0, 6.5, 7.0 建立陣列"
   ]
  },
  {
   "cell_type": "code",
   "execution_count": 14,
   "metadata": {},
   "outputs": [
    {
     "name": "stdout",
     "output_type": "stream",
     "text": [
      "1.0\n",
      "2.0\n",
      "5.0\n",
      "6.5\n",
      "7.0\n"
     ]
    }
   ],
   "source": [
    "x = array('f',[1.0, 2.0, 5.0, 6.5, 7.0])\n",
    "for data in x:\n",
    "    print(data)"
   ]
  },
  {
   "attachments": {},
   "cell_type": "markdown",
   "metadata": {},
   "source": [
    "2. 1, 11, 22, 33, 44, 55 建立一陣列, 要求使用者輸入 0-5, 並刪除該 index 若超過範圍則回應輸入錯誤"
   ]
  },
  {
   "cell_type": "code",
   "execution_count": 1,
   "metadata": {},
   "outputs": [],
   "source": [
    "from array import *"
   ]
  },
  {
   "cell_type": "code",
   "execution_count": 4,
   "metadata": {},
   "outputs": [
    {
     "name": "stdout",
     "output_type": "stream",
     "text": [
      "陣列內容如下 : \n",
      "1\n",
      "11\n",
      "22\n",
      "33\n",
      "44\n",
      "55\n",
      "1\n",
      "22\n",
      "33\n",
      "44\n",
      "55\n",
      "1\n",
      "33\n",
      "44\n",
      "55\n",
      "1\n",
      "44\n",
      "55\n",
      "1\n",
      "44\n",
      "輸入錯誤\n",
      "輸入錯誤\n",
      "1\n",
      "array 為空\n"
     ]
    }
   ],
   "source": [
    "x = array('i',[1, 11, 22, 33, 44, 55])\n",
    "print('陣列內容如下 : ')\n",
    "for data in x:\n",
    "    print(data)\n",
    "while len(x)>=0:\n",
    "    y = int(input('請輸入欲刪除的索引 :'))\n",
    "    if y<=len(x)-1 and y>=0:\n",
    "        x.pop(y)\n",
    "        for data in x:\n",
    "            print(data)\n",
    "    elif len(x) == 0:\n",
    "        print('array 為空')\n",
    "        break\n",
    "    else:\n",
    "        print('輸入錯誤')"
   ]
  },
  {
   "attachments": {},
   "cell_type": "markdown",
   "metadata": {},
   "source": [
    "3. 使用 1, 11, 22, 33, 44, 55 建立一陣列, 要求使用者輸入 index 與值 "
   ]
  },
  {
   "cell_type": "code",
   "execution_count": 5,
   "metadata": {},
   "outputs": [
    {
     "name": "stdout",
     "output_type": "stream",
     "text": [
      "陣列內容如下 :\n",
      "1\n",
      "11\n",
      "22\n",
      "33\n",
      "44\n",
      "55\n",
      "1\n",
      "200\n",
      "11\n",
      "22\n",
      "33\n",
      "44\n",
      "55\n",
      "1\n",
      "300\n",
      "200\n",
      "11\n",
      "22\n",
      "33\n",
      "44\n",
      "55\n",
      "1\n",
      "300\n",
      "300\n",
      "200\n",
      "11\n",
      "22\n",
      "33\n",
      "44\n",
      "55\n",
      "1\n",
      "300\n",
      "300\n",
      "200\n",
      "11\n",
      "22\n",
      "33\n",
      "44\n",
      "1\n",
      "55\n"
     ]
    }
   ],
   "source": [
    "x = array('i',[1, 11, 22, 33, 44, 55])\n",
    "print('陣列內容如下 :')\n",
    "for data in x:\n",
    "    print(data)\n",
    "idx = 0\n",
    "while idx!=-1:\n",
    "    idx = int(input('請輸入愈插入的索引 :'))\n",
    "    num = int(input('請輸入數值 :'))\n",
    "    if idx <= len(x)-1:\n",
    "        x.insert(idx, num)\n",
    "    else:\n",
    "        x.append(num)\n",
    "    for data in x:\n",
    "        print(data)\n",
    "    "
   ]
  },
  {
   "cell_type": "code",
   "execution_count": null,
   "metadata": {},
   "outputs": [],
   "source": []
  }
 ],
 "metadata": {
  "kernelspec": {
   "display_name": "LeetCode",
   "language": "python",
   "name": "python3"
  },
  "language_info": {
   "codemirror_mode": {
    "name": "ipython",
    "version": 3
   },
   "file_extension": ".py",
   "mimetype": "text/x-python",
   "name": "python",
   "nbconvert_exporter": "python",
   "pygments_lexer": "ipython3",
   "version": "3.10.8 (main, Nov 24 2022, 14:13:03) [GCC 11.2.0]"
  },
  "orig_nbformat": 4,
  "vscode": {
   "interpreter": {
    "hash": "f6bc879a1385e8122ad46fe8597f2eccbe0c3a28a29ee913b33b5a9ee828dd15"
   }
  }
 },
 "nbformat": 4,
 "nbformat_minor": 2
}
