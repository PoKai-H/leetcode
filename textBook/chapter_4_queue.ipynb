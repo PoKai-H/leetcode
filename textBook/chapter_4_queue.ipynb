{
 "cells": [
  {
   "attachments": {},
   "cell_type": "markdown",
   "metadata": {},
   "source": [
    "ch 4-3 模擬佇列"
   ]
  },
  {
   "cell_type": "code",
   "execution_count": 5,
   "metadata": {},
   "outputs": [
    {
     "name": "stdout",
     "output_type": "stream",
     "text": [
      "佇列長度 3\n",
      "('讀取佇列:', 'Grape')\n",
      "('讀取佇列:', 'Mango')\n",
      "('讀取佇列:', 'Apple')\n",
      "Empty Queue\n"
     ]
    }
   ],
   "source": [
    "class Queue:\n",
    "    def __init__(self):\n",
    "        self.queue = []\n",
    "    \n",
    "    def enqueue(self, data):\n",
    "        self.queue.insert(0, data)\n",
    "\n",
    "    def dequeue(self):\n",
    "        if len(self.queue):\n",
    "            return \"讀取佇列:\",self.queue.pop()\n",
    "        return \"Empty Queue\"\n",
    "\n",
    "    def size(self):\n",
    "        return len(self.queue)\n",
    "\n",
    "q = Queue()\n",
    "q.enqueue('Grape')\n",
    "q.enqueue('Mango')\n",
    "q.enqueue('Apple')\n",
    "print('佇列長度', q.size())\n",
    "print(q.dequeue())\n",
    "print(q.dequeue())\n",
    "print(q.dequeue())\n",
    "print(q.dequeue())"
   ]
  },
  {
   "attachments": {},
   "cell_type": "markdown",
   "metadata": {},
   "source": [
    "ch 3-4 佇列模組"
   ]
  },
  {
   "cell_type": "code",
   "execution_count": 6,
   "metadata": {},
   "outputs": [
    {
     "name": "stdout",
     "output_type": "stream",
     "text": [
      "0\n",
      "1\n",
      "2\n"
     ]
    }
   ],
   "source": [
    "from queue import Queue\n",
    "q = Queue()\n",
    "for i in range(3):\n",
    "    q.put(i)                # Queue.put(i) 會將資料加入佇列\n",
    "\n",
    "while not q.empty():        # 判斷 Queue 是否為空, 回傳 True/False\n",
    "    print(q.get())          # Queue.get() 取出資料"
   ]
  },
  {
   "attachments": {},
   "cell_type": "markdown",
   "metadata": {},
   "source": [
    "習題"
   ]
  },
  {
   "attachments": {},
   "cell_type": "markdown",
   "metadata": {},
   "source": [
    "4-5-1 在資料插入佇列時, 同時輸出 \"成功插入 xx 至佇列\""
   ]
  },
  {
   "cell_type": "code",
   "execution_count": 16,
   "metadata": {},
   "outputs": [
    {
     "name": "stdout",
     "output_type": "stream",
     "text": [
      "Succesfully insert Grape to queue\n",
      "Succesfully insert Mango to queue\n",
      "Succesfully insert Apple to queue\n"
     ]
    },
    {
     "data": {
      "text/plain": [
       "('Queues length', 3)"
      ]
     },
     "execution_count": 16,
     "metadata": {},
     "output_type": "execute_result"
    }
   ],
   "source": [
    "class Queue:\n",
    "    def __init__(self):\n",
    "        self.queue = []\n",
    "    def enqueue(self, data):\n",
    "        self.queue.insert(0, data)\n",
    "        print(f\"Succesfully insert {data} to queue\")\n",
    "    def length(self):\n",
    "        return \"Queues length\",len(self.queue)\n",
    "    def dequeue(self):\n",
    "        if len(self.queue):\n",
    "            return self.queue.pop()\n",
    "        return \"Empty Queue\"\n",
    "\n",
    "q = Queue()\n",
    "q.enqueue('Grape')\n",
    "q.enqueue('Mango')\n",
    "q.enqueue('Apple')\n",
    "q.length()\n"
   ]
  },
  {
   "cell_type": "code",
   "execution_count": 23,
   "metadata": {},
   "outputs": [
    {
     "name": "stdout",
     "output_type": "stream",
     "text": [
      "Succesfully insert Burger to queue\n",
      "Succesfully insert Fries to queue\n",
      "Succesfully insert Coke to queue\n",
      "Burger\n",
      "Fries\n",
      "Coke\n",
      "Empty Queue\n"
     ]
    }
   ],
   "source": [
    "q.enqueue('Burger')\n",
    "q.enqueue('Fries')\n",
    "q.enqueue('Coke')\n",
    "print(q.dequeue())\n",
    "print(q.dequeue())\n",
    "print(q.dequeue())\n",
    "print(q.dequeue())"
   ]
  }
 ],
 "metadata": {
  "kernelspec": {
   "display_name": "LeetCode",
   "language": "python",
   "name": "python3"
  },
  "language_info": {
   "codemirror_mode": {
    "name": "ipython",
    "version": 3
   },
   "file_extension": ".py",
   "mimetype": "text/x-python",
   "name": "python",
   "nbconvert_exporter": "python",
   "pygments_lexer": "ipython3",
   "version": "3.10.8 (main, Nov 24 2022, 14:13:03) [GCC 11.2.0]"
  },
  "orig_nbformat": 4,
  "vscode": {
   "interpreter": {
    "hash": "f6bc879a1385e8122ad46fe8597f2eccbe0c3a28a29ee913b33b5a9ee828dd15"
   }
  }
 },
 "nbformat": 4,
 "nbformat_minor": 2
}
