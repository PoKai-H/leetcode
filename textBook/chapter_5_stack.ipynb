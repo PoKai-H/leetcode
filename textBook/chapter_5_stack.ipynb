{
 "cells": [
  {
   "attachments": {},
   "cell_type": "markdown",
   "metadata": {},
   "source": [
    "5-3-1 using list to simulate stack"
   ]
  },
  {
   "cell_type": "code",
   "execution_count": 2,
   "metadata": {},
   "outputs": [
    {
     "name": "stdout",
     "output_type": "stream",
     "text": [
      "fruits = ['Grape', 'Mango', 'Apple']\n",
      "pop 操作 : Apple\n",
      "pop 操作 : Mango\n",
      "pop 操作 : Grape\n"
     ]
    }
   ],
   "source": [
    "fruits = []\n",
    "fruits.append('Grape')\n",
    "fruits.append('Mango')\n",
    "fruits.append('Apple')\n",
    "print('fruits =', fruits)\n",
    "print('pop 操作 :',fruits.pop())\n",
    "print('pop 操作 :',fruits.pop())\n",
    "print('pop 操作 :',fruits.pop())"
   ]
  },
  {
   "cell_type": "code",
   "execution_count": 7,
   "metadata": {},
   "outputs": [
    {
     "name": "stdout",
     "output_type": "stream",
     "text": [
      "Add Grape to stack\n",
      "Add Mango to stack\n",
      "Add Apple to stack\n",
      "3\n",
      "Apple\n",
      "Mango\n",
      "Grape\n"
     ]
    }
   ],
   "source": [
    "class Stack:\n",
    "    def __init__(self):\n",
    "        self.stack = []\n",
    "    def push(self, data):\n",
    "        self.stack.append(data)\n",
    "    def pop(self):\n",
    "        return self.stack.pop()\n",
    "    def size(self):\n",
    "        return len(self.stack)\n",
    "    def isEmpty(self):\n",
    "        return self.stack==[]\n",
    "\n",
    "stack = Stack()\n",
    "fruits = ['Grape','Mango','Apple']\n",
    "for i in fruits:\n",
    "    stack.push(i)\n",
    "    print(f'Add {i} to stack')\n",
    "print(stack.size())\n",
    "while not stack.isEmpty():\n",
    "    print(stack.pop())"
   ]
  },
  {
   "attachments": {},
   "cell_type": "markdown",
   "metadata": {},
   "source": [
    "遞迴其實是 stack"
   ]
  },
  {
   "cell_type": "code",
   "execution_count": 9,
   "metadata": {},
   "outputs": [
    {
     "name": "stdout",
     "output_type": "stream",
     "text": [
      "factorial(5) 呼叫前 5!= 0\n",
      "factorial(4) 呼叫前 4!= 0\n",
      "factorial(3) 呼叫前 3!= 0\n",
      "factorial(2) 呼叫前 2!= 0\n",
      "factorail(1) 呼叫前 1!= 0\n",
      "達到遞迴終止條件 n = 1\n",
      "factorial(1) 返回後 1!= 1\n",
      "factorail(2) 返回後 2!= 2\n",
      "factorail(3) 返回後 3!= 6\n",
      "factorail(4) 返回後 4!= 24\n",
      "factorail(5) 返回後 5!= 120\n",
      "5 的階層結果是 = 120\n"
     ]
    }
   ],
   "source": [
    "def factorial(n):\n",
    "    global fact\n",
    "    if n == 1 :\n",
    "        print(\"factorail(%d) 呼叫前 %d!= %d\" %(n, n, fact))\n",
    "        print(\"達到遞迴終止條件 n = 1\")\n",
    "        fact = 1\n",
    "        print(\"factorial(%d) 返回後 %d!= %d\" %(n, n, fact))\n",
    "        return fact\n",
    "    else:\n",
    "        print(\"factorial(%d) 呼叫前 %d!= %d\"% (n, n, fact))\n",
    "        fact = n*factorial(n-1)\n",
    "        print(\"factorail(%d) 返回後 %d!= %d\"% (n, n, fact))\n",
    "        return fact\n",
    "\n",
    "fact = 0\n",
    "N = eval(input(\"請輸入階層數 :\"))\n",
    "print(N, \"的階層結果是 =\", factorial(N))"
   ]
  },
  {
   "attachments": {},
   "cell_type": "markdown",
   "metadata": {},
   "source": [
    "習題"
   ]
  },
  {
   "attachments": {},
   "cell_type": "markdown",
   "metadata": {},
   "source": [
    "5-6-1 為 stack 類別設計方法 get() 可以傳回頂端的值且不刪除資料"
   ]
  },
  {
   "cell_type": "code",
   "execution_count": 14,
   "metadata": {},
   "outputs": [
    {
     "name": "stdout",
     "output_type": "stream",
     "text": [
      "Add Grape to stack\n",
      "Add Mango to stack\n",
      "Add Apple to stack\n",
      "3\n",
      "取出不刪除 Apple\n",
      "3\n",
      "取出後刪除 Apple\n",
      "取出不刪除 Mango\n",
      "2\n",
      "取出後刪除 Mango\n",
      "取出不刪除 Grape\n",
      "1\n",
      "取出後刪除 Grape\n"
     ]
    }
   ],
   "source": [
    "class Stack:\n",
    "    def __init__(self):\n",
    "        self.stack = []\n",
    "    def push(self, data):\n",
    "        self.stack.append(data)\n",
    "        return f\"將 {data} 放入堆疊\"\n",
    "    def pop(self):\n",
    "        return self.stack.pop()\n",
    "    def get(self):\n",
    "        return self.stack[-1]\n",
    "    def size(self):\n",
    "        return len(self.stack)\n",
    "    def isEmpty(self):\n",
    "        return self.stack == []\n",
    "\n",
    "stack = Stack()\n",
    "fruits = ['Grape','Mango','Apple']\n",
    "for i in fruits:\n",
    "    stack.push(i)\n",
    "    print(f'Add {i} to stack')\n",
    "print(stack.size())\n",
    "while not stack.isEmpty():\n",
    "    print('取出不刪除',stack.get())\n",
    "    print(stack.size())\n",
    "    print('取出後刪除',stack.pop())\n"
   ]
  },
  {
   "cell_type": "code",
   "execution_count": 17,
   "metadata": {},
   "outputs": [
    {
     "name": "stdout",
     "output_type": "stream",
     "text": [
      "Add Grape to stack\n",
      "Add Mango to stack\n",
      "Add Apple to stack\n",
      "3\n",
      "程式結束\n"
     ]
    }
   ],
   "source": [
    "class Stack:\n",
    "    def __init__(self):\n",
    "        self.stack = []\n",
    "    def push(self, data):\n",
    "        self.stack.append(data)\n",
    "        return f\"將 {data} 放入堆疊\"\n",
    "    def pop(self):\n",
    "        return self.stack.pop()\n",
    "    def get(self):\n",
    "        return self.stack[-1]\n",
    "    def size(self):\n",
    "        return len(self.stack)\n",
    "    def isEmpty(self):\n",
    "        return self.stack == []\n",
    "    def cls(self):\n",
    "        while len(self.stack)!=0:\n",
    "            self.stack.pop()\n",
    "        return \"程式結束\"\n",
    "\n",
    "stack = Stack()\n",
    "fruits = ['Grape','Mango','Apple']\n",
    "for i in fruits:\n",
    "    stack.push(i)\n",
    "    print(f'Add {i} to stack')\n",
    "print(stack.size())\n",
    "print(stack.cls())\n",
    "while not stack.isEmpty():\n",
    "    print(stack.pop())"
   ]
  },
  {
   "attachments": {},
   "cell_type": "markdown",
   "metadata": {},
   "source": [
    "Building Stack with Linked-List"
   ]
  },
  {
   "cell_type": "code",
   "execution_count": 23,
   "metadata": {},
   "outputs": [
    {
     "name": "stdout",
     "output_type": "stream",
     "text": [
      "3\n",
      "2\n",
      "1\n",
      "2\n",
      "1\n",
      "1\n",
      "None\n"
     ]
    }
   ],
   "source": [
    "class Node:\n",
    "    def __init__(self, data=None):\n",
    "        self.data = data\n",
    "        self.top = None\n",
    "\n",
    "class Stack:\n",
    "    def __init__(self):\n",
    "        self.head = None\n",
    "    def push(self, data):\n",
    "        if self.head == None:\n",
    "            self.head = Node(data)\n",
    "        else:\n",
    "            new_node = Node(data)\n",
    "            new_node.top = self.head\n",
    "            self.head = new_node\n",
    "    def print_list(self):\n",
    "        ptr = self.head\n",
    "        while ptr:\n",
    "            print(ptr.data)\n",
    "            ptr = ptr.top\n",
    "    def pop(self):\n",
    "        if self.head == None:\n",
    "            print(None)\n",
    "        else:\n",
    "            popped = self.head\n",
    "            self.head = self.head.top\n",
    "            return popped\n",
    "\n",
    "\n",
    "link = Stack()\n",
    "link.push(1)\n",
    "link.push(2)\n",
    "link.push(3)\n",
    "link.print_list()\n",
    "link.pop()\n",
    "link.print_list()\n",
    "link.pop()\n",
    "link.print_list()\n",
    "link.pop()\n",
    "link.print_list()\n",
    "link.pop()"
   ]
  },
  {
   "cell_type": "code",
   "execution_count": null,
   "metadata": {},
   "outputs": [],
   "source": []
  },
  {
   "cell_type": "code",
   "execution_count": null,
   "metadata": {},
   "outputs": [],
   "source": []
  }
 ],
 "metadata": {
  "kernelspec": {
   "display_name": "LeetCode",
   "language": "python",
   "name": "python3"
  },
  "language_info": {
   "codemirror_mode": {
    "name": "ipython",
    "version": 3
   },
   "file_extension": ".py",
   "mimetype": "text/x-python",
   "name": "python",
   "nbconvert_exporter": "python",
   "pygments_lexer": "ipython3",
   "version": "3.10.8 (main, Nov 24 2022, 14:13:03) [GCC 11.2.0]"
  },
  "orig_nbformat": 4,
  "vscode": {
   "interpreter": {
    "hash": "f6bc879a1385e8122ad46fe8597f2eccbe0c3a28a29ee913b33b5a9ee828dd15"
   }
  }
 },
 "nbformat": 4,
 "nbformat_minor": 2
}
