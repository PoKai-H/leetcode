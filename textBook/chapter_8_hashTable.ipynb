{
 "cells": [
  {
   "attachments": {},
   "cell_type": "markdown",
   "metadata": {},
   "source": [
    "8-7-3 Avoid data repeatance"
   ]
  },
  {
   "cell_type": "code",
   "execution_count": 3,
   "metadata": {},
   "outputs": [
    {
     "name": "stdout",
     "output_type": "stream",
     "text": [
      "You are not avalible to vote\n"
     ]
    }
   ],
   "source": [
    "def check_name(name):\n",
    "    if voted[name]:\n",
    "        print(\"You have already voted\")\n",
    "    else:\n",
    "        print('Welcome to vote')\n",
    "        voted[name] = True\n",
    "    \n",
    "voted = {\n",
    "    \"Trump\":None,\n",
    "    \"Lisa\":None,\n",
    "    \"Mike\":None\n",
    "}\n",
    "\n",
    "name = input('請輸入名子 :')\n",
    "if name in voted:\n",
    "    check_name(name)\n",
    "else:\n",
    "    print('You are not avalible to vote')"
   ]
  },
  {
   "attachments": {},
   "cell_type": "markdown",
   "metadata": {},
   "source": [
    "8-8 hashlib"
   ]
  },
  {
   "cell_type": "code",
   "execution_count": 4,
   "metadata": {},
   "outputs": [
    {
     "name": "stdout",
     "output_type": "stream",
     "text": [
      "Hash Value : b'\\xa9\\x9b\\x82\\xd5_\\x909\\xe7<2\\xbe\\x18\\xfb\\x89V\\xe8'\n",
      "Hash Value (16進位) : a99b82d55f9039e73c32be18fb8956e8\n",
      "<class '_hashlib.HASH'>\n",
      "<class 'bytes'>\n",
      "<class 'str'>\n"
     ]
    }
   ],
   "source": [
    "import hashlib\n",
    "\n",
    "data = hashlib.md5()\n",
    "data.update(b'Ming-Chi Institute of Technology')\n",
    "print('Hash Value :', data.digest())\n",
    "print('Hash Value (16進位) :', data.hexdigest())\n",
    "print(type(data))\n",
    "print(type(data.digest()))\n",
    "print(type(data.hexdigest()))"
   ]
  },
  {
   "cell_type": "code",
   "execution_count": 6,
   "metadata": {},
   "outputs": [
    {
     "name": "stdout",
     "output_type": "stream",
     "text": [
      "Hash Value : b'\\xb1\\xad\\xf0\\xb9\\xafGG\\x9d\\x02u\\x7f8\\x00]\\xee\\x9a'\n",
      "Hash Value (16進位) : b1adf0b9af47479d02757f38005dee9a\n"
     ]
    }
   ],
   "source": [
    "data = hashlib.md5()\n",
    "#data.update(b'明志科大')        bytes can only contain ASCII lieteral characters\n",
    "school = \"明志科大\"\n",
    "data.update(school.encode('utf-8'))\n",
    "\n",
    "print('Hash Value :', data.digest())\n",
    "print('Hash Value (16進位) :', data.hexdigest())"
   ]
  },
  {
   "cell_type": "code",
   "execution_count": 7,
   "metadata": {},
   "outputs": [
    {
     "name": "stdout",
     "output_type": "stream",
     "text": [
      "Hash Value : b'\\xe2\\xa7\\x8d\\xfa\\x9a\\xda\\xd9\\x05 \\x18\\xb5Bt\\n\\x1b_\\xa7\\xa0rO'\n",
      "Hash Value (16進位) : e2a78dfa9adad9052018b542740a1b5fa7a0724f\n"
     ]
    }
   ],
   "source": [
    "data = hashlib.sha1()\n",
    "school = \"明志科大\"\n",
    "data.update(school.encode('utf-8'))\n",
    "\n",
    "print('Hash Value :', data.digest())\n",
    "print('Hash Value (16進位) :', data.hexdigest())\n"
   ]
  },
  {
   "attachments": {},
   "cell_type": "markdown",
   "metadata": {},
   "source": [
    "show available algorithms"
   ]
  },
  {
   "cell_type": "code",
   "execution_count": 8,
   "metadata": {},
   "outputs": [
    {
     "data": {
      "text/plain": [
       "{'blake2b',\n",
       " 'blake2s',\n",
       " 'md4',\n",
       " 'md5',\n",
       " 'md5-sha1',\n",
       " 'mdc2',\n",
       " 'ripemd160',\n",
       " 'sha1',\n",
       " 'sha224',\n",
       " 'sha256',\n",
       " 'sha384',\n",
       " 'sha3_224',\n",
       " 'sha3_256',\n",
       " 'sha3_384',\n",
       " 'sha3_512',\n",
       " 'sha512',\n",
       " 'sha512_224',\n",
       " 'sha512_256',\n",
       " 'shake_128',\n",
       " 'shake_256',\n",
       " 'sm3',\n",
       " 'whirlpool'}"
      ]
     },
     "execution_count": 8,
     "metadata": {},
     "output_type": "execute_result"
    }
   ],
   "source": [
    "hashlib.algorithms_available"
   ]
  },
  {
   "cell_type": "code",
   "execution_count": null,
   "metadata": {},
   "outputs": [],
   "source": []
  }
 ],
 "metadata": {
  "kernelspec": {
   "display_name": "LeetCode",
   "language": "python",
   "name": "python3"
  },
  "language_info": {
   "codemirror_mode": {
    "name": "ipython",
    "version": 3
   },
   "file_extension": ".py",
   "mimetype": "text/x-python",
   "name": "python",
   "nbconvert_exporter": "python",
   "pygments_lexer": "ipython3",
   "version": "3.10.8"
  },
  "orig_nbformat": 4,
  "vscode": {
   "interpreter": {
    "hash": "f6bc879a1385e8122ad46fe8597f2eccbe0c3a28a29ee913b33b5a9ee828dd15"
   }
  }
 },
 "nbformat": 4,
 "nbformat_minor": 2
}
