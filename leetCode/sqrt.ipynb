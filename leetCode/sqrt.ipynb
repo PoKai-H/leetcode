{
 "cells": [
  {
   "cell_type": "code",
   "execution_count": 9,
   "metadata": {},
   "outputs": [
    {
     "name": "stdout",
     "output_type": "stream",
     "text": [
      "2 3\n"
     ]
    },
    {
     "data": {
      "text/plain": [
       "2"
      ]
     },
     "execution_count": 9,
     "metadata": {},
     "output_type": "execute_result"
    }
   ],
   "source": [
    "class Solution:\n",
    "    def mySqrt(self, x: int) -> int:\n",
    "        if x <= 1:\n",
    "            return x\n",
    "        else:\n",
    "            low, high = 0,x//2+1\n",
    "            while low <= high:\n",
    "                m = (low+high)//2\n",
    "                if m*m == x:\n",
    "                    return m\n",
    "                elif m*m > x:\n",
    "                    high = m\n",
    "                else:\n",
    "                    low = m+1\n",
    "                print(low, high)\n",
    "\n",
    "            return m\n",
    "                \n",
    "\n",
    "\n",
    "sol = Solution()\n",
    "sol.mySqrt(4)"
   ]
  },
  {
   "cell_type": "code",
   "execution_count": 8,
   "metadata": {},
   "outputs": [
    {
     "data": {
      "text/plain": [
       "2"
      ]
     },
     "execution_count": 8,
     "metadata": {},
     "output_type": "execute_result"
    }
   ],
   "source": [
    "class Solution:\n",
    "     def mySqrt(self, x: int) -> int:\n",
    "        if x==0 or x==1: return x\n",
    "        max = x;\n",
    "        min = 0;\n",
    "        q = (min+max)//2;\n",
    "        while(min < max):\n",
    "            c = q * q\n",
    "            if c == x: \n",
    "                return q\n",
    "            elif c < x: \n",
    "                min = q+1\n",
    "            else: \n",
    "                max=q;\n",
    "            q=(min+max)//2\n",
    "        return q - 1\n",
    "\n",
    "sol = Solution()\n",
    "sol.mySqrt(4)"
   ]
  },
  {
   "cell_type": "code",
   "execution_count": null,
   "metadata": {},
   "outputs": [],
   "source": []
  }
 ],
 "metadata": {
  "kernelspec": {
   "display_name": "LeetCode",
   "language": "python",
   "name": "python3"
  },
  "language_info": {
   "codemirror_mode": {
    "name": "ipython",
    "version": 3
   },
   "file_extension": ".py",
   "mimetype": "text/x-python",
   "name": "python",
   "nbconvert_exporter": "python",
   "pygments_lexer": "ipython3",
   "version": "3.10.8 (main, Nov 24 2022, 14:13:03) [GCC 11.2.0]"
  },
  "orig_nbformat": 4,
  "vscode": {
   "interpreter": {
    "hash": "f6bc879a1385e8122ad46fe8597f2eccbe0c3a28a29ee913b33b5a9ee828dd15"
   }
  }
 },
 "nbformat": 4,
 "nbformat_minor": 2
}
