{
 "cells": [
  {
   "attachments": {},
   "cell_type": "markdown",
   "metadata": {},
   "source": [
    "first in last out -> stack"
   ]
  },
  {
   "cell_type": "code",
   "execution_count": 48,
   "metadata": {},
   "outputs": [
    {
     "name": "stdout",
     "output_type": "stream",
     "text": [
      "['(']\n",
      "['(', '[']\n",
      "['(', '[', '{']\n",
      "['(', '[']\n",
      "['(', '[', '{']\n",
      "['(', '[']\n",
      "['(']\n",
      "[]\n"
     ]
    },
    {
     "data": {
      "text/plain": [
       "True"
      ]
     },
     "execution_count": 48,
     "metadata": {},
     "output_type": "execute_result"
    }
   ],
   "source": [
    "class Solution:\n",
    "    def isValid(self, s: str) -> bool:\n",
    "        s_list = list(s)\n",
    "        r_list = []\n",
    "        if len(s_list)%2 == 0:\n",
    "            parenthisis = {\n",
    "                \")\" : \"(\",\n",
    "                \"}\" : \"{\",\n",
    "                \"]\" : \"[\",\n",
    "            }\n",
    "            parenthisis_left = ['(','[','{']\n",
    "            parenthisis_right = [\"]\",\"}\",\")\"]\n",
    "            for n in range(int(len(s_list))):\n",
    "                if s_list[n] in parenthisis_left:\n",
    "                    r_list.append(s_list[n])\n",
    "                else :\n",
    "                    if len(r_list)== 0 :\n",
    "                        return False\n",
    "                    if prev == parenthisis[s_list[n]]:\n",
    "                        r_list.pop()\n",
    "                    else:\n",
    "                        r_list.append(s_list[n])\n",
    "                try:\n",
    "                    prev = r_list[-1]\n",
    "                except:\n",
    "                    prev = 0\n",
    "                print(r_list)\n",
    "            if len(r_list)!= 0:\n",
    "                return False\n",
    "            else: \n",
    "                return True\n",
    "        else:\n",
    "            return False\n",
    "\n",
    "\n",
    "\n",
    "s = \"([{}{}])\"\n",
    "sol = Solution()\n",
    "sol.isValid(s)"
   ]
  },
  {
   "cell_type": "code",
   "execution_count": 51,
   "metadata": {},
   "outputs": [
    {
     "data": {
      "text/plain": [
       "False"
      ]
     },
     "execution_count": 51,
     "metadata": {},
     "output_type": "execute_result"
    }
   ],
   "source": [
    "class Solution:\n",
    "    def isValid(self, s: str) -> bool:\n",
    "        stack = []\n",
    "        parenthisis = {\"(\":\")\",\"{\":\"}\",\"[\":\"]\"}\n",
    "        for p in s:\n",
    "            if p in parenthisis:\n",
    "                stack.append(p)\n",
    "            elif not stack or parenthisis[stack.pop()]!= p :\n",
    "                return False\n",
    "        return len(stack) == 0\n",
    "\n",
    "s = \"([{{[}]}])\"\n",
    "sol = Solution()\n",
    "sol.isValid(s)"
   ]
  }
 ],
 "metadata": {
  "kernelspec": {
   "display_name": "LeetCode",
   "language": "python",
   "name": "python3"
  },
  "language_info": {
   "codemirror_mode": {
    "name": "ipython",
    "version": 3
   },
   "file_extension": ".py",
   "mimetype": "text/x-python",
   "name": "python",
   "nbconvert_exporter": "python",
   "pygments_lexer": "ipython3",
   "version": "3.10.8"
  },
  "orig_nbformat": 4,
  "vscode": {
   "interpreter": {
    "hash": "f6bc879a1385e8122ad46fe8597f2eccbe0c3a28a29ee913b33b5a9ee828dd15"
   }
  }
 },
 "nbformat": 4,
 "nbformat_minor": 2
}
