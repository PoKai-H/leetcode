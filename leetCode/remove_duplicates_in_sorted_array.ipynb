{
 "cells": [
  {
   "cell_type": "code",
   "execution_count": 19,
   "metadata": {},
   "outputs": [
    {
     "data": {
      "text/plain": [
       "1"
      ]
     },
     "execution_count": 19,
     "metadata": {},
     "output_type": "execute_result"
    }
   ],
   "source": [
    "class Solution:\n",
    "    def removeDuplicates(self, nums: list[int]) -> int:\n",
    "        prev = 0\n",
    "        ptr = 1\n",
    "        n = 1\n",
    "        while n < len(nums)-1:\n",
    "            if nums[n] == nums[prev]:\n",
    "                n+=1\n",
    "            if nums[n] != nums[prev]:\n",
    "                nums[n], nums[ptr] = nums[ptr], nums[n]\n",
    "                ptr+=1\n",
    "                prev+=1\n",
    "                n+=1\n",
    "        return ptr\n",
    "\n",
    "sol = Solution()\n",
    "nums = [1,1]\n",
    "sol.removeDuplicates(nums)"
   ]
  }
 ],
 "metadata": {
  "kernelspec": {
   "display_name": "LeetCode",
   "language": "python",
   "name": "python3"
  },
  "language_info": {
   "codemirror_mode": {
    "name": "ipython",
    "version": 3
   },
   "file_extension": ".py",
   "mimetype": "text/x-python",
   "name": "python",
   "nbconvert_exporter": "python",
   "pygments_lexer": "ipython3",
   "version": "3.10.8"
  },
  "orig_nbformat": 4,
  "vscode": {
   "interpreter": {
    "hash": "f6bc879a1385e8122ad46fe8597f2eccbe0c3a28a29ee913b33b5a9ee828dd15"
   }
  }
 },
 "nbformat": 4,
 "nbformat_minor": 2
}
