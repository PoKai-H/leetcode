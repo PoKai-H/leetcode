{
 "cells": [
  {
   "cell_type": "code",
   "execution_count": 2,
   "metadata": {},
   "outputs": [
    {
     "data": {
      "text/plain": [
       "False"
      ]
     },
     "execution_count": 2,
     "metadata": {},
     "output_type": "execute_result"
    }
   ],
   "source": [
    "class Solution:\n",
    "    def isHappy(self, n: int) -> bool:\n",
    "        pass_list = []\n",
    "        total = n\n",
    "        while total != 1:\n",
    "            tmp = list(str(total))\n",
    "            total = 0\n",
    "            for num in tmp:\n",
    "                sqr = int(num)*int(num)\n",
    "                total+= sqr\n",
    "            if total not in pass_list:\n",
    "                pass_list.append(total)\n",
    "            else:\n",
    "                return False\n",
    "        return True\n",
    "\n",
    "sol = Solution()\n",
    "sol.isHappy(19)\n",
    "sol.isHappy(2)"
   ]
  }
 ],
 "metadata": {
  "kernelspec": {
   "display_name": "LeetCode",
   "language": "python",
   "name": "python3"
  },
  "language_info": {
   "codemirror_mode": {
    "name": "ipython",
    "version": 3
   },
   "file_extension": ".py",
   "mimetype": "text/x-python",
   "name": "python",
   "nbconvert_exporter": "python",
   "pygments_lexer": "ipython3",
   "version": "3.10.8"
  },
  "orig_nbformat": 4,
  "vscode": {
   "interpreter": {
    "hash": "f6bc879a1385e8122ad46fe8597f2eccbe0c3a28a29ee913b33b5a9ee828dd15"
   }
  }
 },
 "nbformat": 4,
 "nbformat_minor": 2
}
