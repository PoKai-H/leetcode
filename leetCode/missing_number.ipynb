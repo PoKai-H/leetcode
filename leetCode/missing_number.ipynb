{
 "cells": [
  {
   "cell_type": "code",
   "execution_count": 2,
   "metadata": {},
   "outputs": [
    {
     "name": "stdout",
     "output_type": "stream",
     "text": [
      "[0, 1, 3]\n"
     ]
    },
    {
     "data": {
      "text/plain": [
       "2"
      ]
     },
     "execution_count": 2,
     "metadata": {},
     "output_type": "execute_result"
    }
   ],
   "source": [
    "class Solution:\n",
    "    def missingNumber(self, nums: list[int]):\n",
    "        nums.sort()\n",
    "        print(nums)\n",
    "        for n in range(len(nums)):\n",
    "            if n not in nums:\n",
    "                return n\n",
    "\n",
    "sol = Solution()\n",
    "nums = [3,0,1]\n",
    "sol.missingNumber(nums)"
   ]
  },
  {
   "cell_type": "code",
   "execution_count": 12,
   "metadata": {},
   "outputs": [
    {
     "data": {
      "text/plain": [
       "45.0"
      ]
     },
     "execution_count": 12,
     "metadata": {},
     "output_type": "execute_result"
    }
   ],
   "source": [
    "num = 0\n",
    "nums = [9,6,4,2,3,5,7,0,1]\n",
    "for i in range(len(nums)+1):\n",
    "    num+=i\n",
    "n = len(nums)\n",
    "(n*(1+n))/2"
   ]
  },
  {
   "cell_type": "code",
   "execution_count": null,
   "metadata": {},
   "outputs": [],
   "source": []
  }
 ],
 "metadata": {
  "kernelspec": {
   "display_name": "LeetCode",
   "language": "python",
   "name": "python3"
  },
  "language_info": {
   "codemirror_mode": {
    "name": "ipython",
    "version": 3
   },
   "file_extension": ".py",
   "mimetype": "text/x-python",
   "name": "python",
   "nbconvert_exporter": "python",
   "pygments_lexer": "ipython3",
   "version": "3.10.8 (main, Nov 24 2022, 14:13:03) [GCC 11.2.0]"
  },
  "orig_nbformat": 4,
  "vscode": {
   "interpreter": {
    "hash": "f6bc879a1385e8122ad46fe8597f2eccbe0c3a28a29ee913b33b5a9ee828dd15"
   }
  }
 },
 "nbformat": 4,
 "nbformat_minor": 2
}
