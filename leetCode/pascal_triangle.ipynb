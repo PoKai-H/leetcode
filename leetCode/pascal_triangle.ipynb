{
 "cells": [
  {
   "cell_type": "code",
   "execution_count": 52,
   "metadata": {},
   "outputs": [
    {
     "name": "stdout",
     "output_type": "stream",
     "text": [
      "[1]\n",
      "[]\n",
      "[1, 1]\n",
      "[2]\n",
      "[1, 2, 1]\n",
      "[3, 3]\n",
      "[1, 3, 3, 1]\n",
      "[4, 6, 4]\n",
      "[1, 4, 6, 4, 1]\n",
      "[5, 10, 10, 5]\n",
      "[[1], [1, 1], [1, 2, 1], [1, 3, 3, 1], [1, 4, 6, 4, 1]]\n"
     ]
    }
   ],
   "source": [
    "class Solution:\n",
    "    def generate(self, numRows: int) -> list[list[int]]:\n",
    "        res = []\n",
    "        for i in range(numRows):\n",
    "            curr = []\n",
    "            for j in range(i+1):\n",
    "                if j <1 or j == i:\n",
    "                    curr.append(1)\n",
    "                else:\n",
    "                    curr.append(last[j-1])\n",
    "                \n",
    "                \n",
    "            last = [curr[j]+curr[j+1] for j in range(len(curr)-1)]\n",
    "            res.append(curr)\n",
    "            \n",
    "      \n",
    "\n",
    "sol = Solution()\n",
    "sol.generate(5)"
   ]
  },
  {
   "cell_type": "code",
   "execution_count": 53,
   "metadata": {},
   "outputs": [
    {
     "data": {
      "text/plain": [
       "[[1], [1, 1], [1, 2, 1], [1, 3, 3, 1], [1, 4, 6, 4, 1]]"
      ]
     },
     "execution_count": 53,
     "metadata": {},
     "output_type": "execute_result"
    }
   ],
   "source": [
    "class Solution:\n",
    "    def generate(self, numRows: int) -> list[list[int]]:\n",
    "        res=[[1]]\n",
    "        for i in range(1,numRows):\n",
    "            row = [1]\n",
    "            for j in range(i-1):\n",
    "                row.append(res[-1][j]+res[-1][j+1])\n",
    "            row.append(1)\n",
    "            res.append(row)\n",
    "        return res\n",
    "\n",
    "sol = Solution()\n",
    "sol.generate(5)"
   ]
  }
 ],
 "metadata": {
  "kernelspec": {
   "display_name": "LeetCode",
   "language": "python",
   "name": "python3"
  },
  "language_info": {
   "codemirror_mode": {
    "name": "ipython",
    "version": 3
   },
   "file_extension": ".py",
   "mimetype": "text/x-python",
   "name": "python",
   "nbconvert_exporter": "python",
   "pygments_lexer": "ipython3",
   "version": "3.10.8 (main, Nov 24 2022, 14:13:03) [GCC 11.2.0]"
  },
  "orig_nbformat": 4,
  "vscode": {
   "interpreter": {
    "hash": "f6bc879a1385e8122ad46fe8597f2eccbe0c3a28a29ee913b33b5a9ee828dd15"
   }
  }
 },
 "nbformat": 4,
 "nbformat_minor": 2
}
