{
 "cells": [
  {
   "cell_type": "code",
   "execution_count": 9,
   "metadata": {},
   "outputs": [
    {
     "data": {
      "text/plain": [
       "[]"
      ]
     },
     "execution_count": 9,
     "metadata": {},
     "output_type": "execute_result"
    }
   ],
   "source": [
    "class Solution:\n",
    "    def findMissingRanges(self, nums: list[int], lower: int, upper: int) -> list[str]:\n",
    "        missing_range=[]\n",
    "        for num in nums:\n",
    "            if num - lower > 1 :\n",
    "                if num-1 != lower+1:\n",
    "                    missing_range.append(str(lower+1)+\"->\"+str(num-1))\n",
    "                else:\n",
    "                    missing_range.append(str(lower+1))\n",
    "\n",
    "            lower = num\n",
    "        if upper-nums[-1] != 0:\n",
    "            if upper-1 != nums[-1]+1:\n",
    "                missing_range.append(str(nums[-1]+1)+\"->\"+str(upper))\n",
    "            else:\n",
    "                missing_range.append(str(upper-1))\n",
    "        return missing_range\n",
    "sol = Solution()\n",
    "nums = [-1]\n",
    "lower = -1\n",
    "upper = -1\n",
    "sol.findMissingRanges(nums,lower,upper)"
   ]
  },
  {
   "cell_type": "code",
   "execution_count": 6,
   "metadata": {},
   "outputs": [
    {
     "data": {
      "text/plain": [
       "[]"
      ]
     },
     "execution_count": 6,
     "metadata": {},
     "output_type": "execute_result"
    }
   ],
   "source": [
    "class Solution:\n",
    "    def findMissingRanges(self, nums: list[int], lower: int, upper: int) -> list[str]:\n",
    "        missing_range=[]\n",
    "        if len(nums) > 1:\n",
    "            for num in nums:\n",
    "                if num - lower > 1 :\n",
    "                    if num-1 != lower+1:\n",
    "                        missing_range.append(str(lower+1)+\"->\"+str(num-1))\n",
    "                    else:\n",
    "                        missing_range.append(str(lower+1))\n",
    "\n",
    "                lower = num\n",
    "            if upper-nums[-1] != 0:\n",
    "                if upper-1 != nums[-1]+1:\n",
    "                    missing_range.append(str(nums[-1]+1)+\"->\"+str(upper))\n",
    "                else:\n",
    "                    missing_range.append(str(upper-1))\n",
    "            \n",
    "            return missing_range\n",
    "        elif len(nums) == 1:\n",
    "            if nums[0] - lower == 0:\n",
    "                if upper - nums[0] == 0:\n",
    "                    return []\n",
    "                else:\n",
    "                    return [str(nums[0])+\"->\"+str(upper)]\n",
    "        else:\n",
    "            if upper-lower == 0:\n",
    "                return [str(upper)]\n",
    "            else:\n",
    "                if upper-lower == 1:\n",
    "                    return [str(lower)] if upper in nums else [str(upper)]\n",
    "                else:\n",
    "                    return [str(lower)+\"->\"+str(upper)]\n",
    "\n",
    "sol = Solution()\n",
    "nums = [-1]\n",
    "lower = -1\n",
    "upper = -1\n",
    "sol.findMissingRanges(nums,lower,upper)"
   ]
  },
  {
   "cell_type": "code",
   "execution_count": 22,
   "metadata": {},
   "outputs": [
    {
     "name": "stdout",
     "output_type": "stream",
     "text": [
      "['0']\n",
      "['0', '1']\n"
     ]
    },
    {
     "data": {
      "text/plain": [
       "['0', '1', '3->9']"
      ]
     },
     "execution_count": 22,
     "metadata": {},
     "output_type": "execute_result"
    }
   ],
   "source": [
    "class Solution:\n",
    "    def findMissingRanges(self, nums: list[int], lower: int, upper: int) -> list[str]:\n",
    "        missing_range = []\n",
    "        if len(nums)>1:\n",
    "            nums.insert(0,lower)\n",
    "            prev = nums[0]\n",
    "            for num in nums[1:]:\n",
    "                if (num-1) - (prev+1) == 0:\n",
    "                    missing_range.append(str(num-1)) \n",
    "                elif (num-1) - (prev+1) > 0 :\n",
    "                    missing_range.append(str(prev+1)+\"->\"+str(num-1))\n",
    "                else:\n",
    "                    missing_range.append(str(prev))\n",
    "                prev = num\n",
    "                print(missing_range)\n",
    "            if (upper)-(nums[-1]+1)!=0:\n",
    "                if (upper)-(nums[-1])!=0:\n",
    "                    missing_range.append(str(nums[-1]+1)+\"->\"+str(upper))\n",
    "        elif len(nums) == 1:\n",
    "            nums.insert(0,lower)\n",
    "            nums.append(upper)\n",
    "            if nums[1]!=nums[0]:\n",
    "                if nums[1]-1!=nums[0]:\n",
    "                    missing_range.append(str(lower)+\"->\"+str(nums[1]))\n",
    "                else:\n",
    "                    missing_range.append(str(lower))\n",
    "            if nums[2]!=nums[1]:\n",
    "                if nums[2]-1!=nums[1]:\n",
    "                    missing_range.append(str(nums[1]+1)+\"->\"+str(nums[2]))\n",
    "                else:\n",
    "                    missing_range.append(str(upper))\n",
    "        else:\n",
    "            if lower == upper:\n",
    "                missing_range.append(str(upper))  \n",
    "            else:\n",
    "                missing_range.append(str(lower)+\"->\"+str(upper))\n",
    "        return missing_range\n",
    "sol = Solution()\n",
    "nums = [1,2]\n",
    "lower = 0\n",
    "upper = 9\n",
    "# nums = [0,1,3,50,75]\n",
    "# lower = 0\n",
    "# upper = 99\n",
    "sol.findMissingRanges(nums,lower,upper)"
   ]
  },
  {
   "cell_type": "code",
   "execution_count": 30,
   "metadata": {},
   "outputs": [
    {
     "data": {
      "text/plain": [
       "['2', '4->49', '51->74', '76->99']"
      ]
     },
     "execution_count": 30,
     "metadata": {},
     "output_type": "execute_result"
    }
   ],
   "source": [
    "class Solution:\n",
    "    def findMissingRanges(self, nums: list[int], lower: int, upper: int) -> list[str]:\n",
    "        missing_range=[]\n",
    "        if len(nums):\n",
    "            if nums[0]-lower>1:\n",
    "                missing_range.append(str(lower)+\"->\"+str(nums[0]))\n",
    "            elif nums[0]-lower == 1: \n",
    "                missing_range.append(str(lower))\n",
    "            prev=nums[0]\n",
    "            for num in nums[1:]:\n",
    "                if (num-1) - (prev+1) == 0:\n",
    "                    missing_range.append(str(num-1)) \n",
    "                elif (num-1) - (prev+1) > 0 :\n",
    "                    missing_range.append(str(prev+1)+\"->\"+str(num-1))\n",
    "                prev = num\n",
    "            if upper - nums[-1] > 1:\n",
    "                missing_range.append(str(nums[-1]+1)+\"->\"+str(upper))\n",
    "            elif upper - nums[-1] == 1: \n",
    "                missing_range.append(str(upper))\n",
    "\n",
    "        else:\n",
    "            if lower == upper:\n",
    "                missing_range.append(str(upper))  \n",
    "            else:\n",
    "                missing_range.append(str(lower)+\"->\"+str(upper))\n",
    "\n",
    "        return missing_range\n",
    "sol = Solution()\n",
    "nums = [0,1,3,50,75]\n",
    "lower = 0\n",
    "upper = 99\n",
    "sol.findMissingRanges(nums,lower,upper)"
   ]
  }
 ],
 "metadata": {
  "kernelspec": {
   "display_name": "LeetCode",
   "language": "python",
   "name": "python3"
  },
  "language_info": {
   "codemirror_mode": {
    "name": "ipython",
    "version": 3
   },
   "file_extension": ".py",
   "mimetype": "text/x-python",
   "name": "python",
   "nbconvert_exporter": "python",
   "pygments_lexer": "ipython3",
   "version": "3.10.8"
  },
  "orig_nbformat": 4,
  "vscode": {
   "interpreter": {
    "hash": "f6bc879a1385e8122ad46fe8597f2eccbe0c3a28a29ee913b33b5a9ee828dd15"
   }
  }
 },
 "nbformat": 4,
 "nbformat_minor": 2
}
