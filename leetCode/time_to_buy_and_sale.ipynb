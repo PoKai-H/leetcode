{
 "cells": [
  {
   "cell_type": "code",
   "execution_count": 26,
   "metadata": {},
   "outputs": [
    {
     "name": "stdout",
     "output_type": "stream",
     "text": [
      "bottom: [0, 3]\n",
      "top: [0, 3]\n",
      "profit: 0\n",
      "profit tmp:\n",
      "\n",
      "bottom: [1, 2]\n",
      "top: [1, 2]\n",
      "profit: 0\n",
      "profit tmp:\n",
      "\n",
      "bottom: [1, 2]\n",
      "top: [2, 6]\n",
      "profit: 4\n",
      "profit tmp:\n",
      "\n",
      "bottom: [1, 2]\n",
      "top: [2, 6]\n",
      "profit: 4\n",
      "profit tmp:\n",
      "\n",
      "bottom: [4, 0]\n",
      "top: [4, 0]\n",
      "profit: 4\n",
      "profit tmp:\n",
      "\n",
      "bottom: [4, 0]\n",
      "top: [5, 3]\n",
      "profit: 3\n",
      "profit tmp:\n",
      "\n"
     ]
    },
    {
     "data": {
      "text/plain": [
       "3"
      ]
     },
     "execution_count": 26,
     "metadata": {},
     "output_type": "execute_result"
    }
   ],
   "source": [
    "class Solution:\n",
    "    def maxProfit(self, prices: list[int]):\n",
    "        bottom = [0, prices[0]]\n",
    "        top = [0, prices[0]]\n",
    "        profit = 0\n",
    "        for i in range(len(prices)):\n",
    "            \n",
    "            if bottom[1] > prices[i]:\n",
    "                if profit_tmp >= profit:\n",
    "                    bottom = [i, prices[i]]\n",
    "            if top[1] < prices[i]:\n",
    "                top = [i, prices[i]]\n",
    "                profit = top[1] - bottom[1]\n",
    "            if top[0] < bottom[0]:\n",
    "                top = [i, prices[i]]\n",
    "            profit_tmp = top[1] - bottom[1]\n",
    "\n",
    "            print(\"bottom:\",bottom)\n",
    "            print(\"top:\",top)\n",
    "            print(\"profit:\",profit)\n",
    "            print(\"profit tmp:\")\n",
    "            print()\n",
    "        return profit\n",
    "\n",
    "sol = Solution()\n",
    "prices = [3,2,6,5,0,3]\n",
    "sol.maxProfit(prices)\n"
   ]
  },
  {
   "cell_type": "code",
   "execution_count": 44,
   "metadata": {},
   "outputs": [
    {
     "name": "stdout",
     "output_type": "stream",
     "text": [
      "bottom: 0\n",
      "top: 2\n",
      "profit: 1\n",
      "profit tmp: 1\n",
      "\n"
     ]
    }
   ],
   "source": [
    "class Solution:\n",
    "    def maxProfit(self, prices: list[int]):\n",
    "        profit = 0\n",
    "        profit_tmp = 0\n",
    "        bottom = 0\n",
    "        top = 1\n",
    "        while top < len(prices):\n",
    "            if prices[top] - prices[bottom] >=0:\n",
    "                profit_tmp = prices[top] - prices[bottom]\n",
    "                top+=1\n",
    "            else:\n",
    "                bottom = top\n",
    "                profit_tmp = 0\n",
    "            if profit_tmp > profit:\n",
    "                profit = profit_tmp\n",
    "            print(\"bottom:\",bottom)\n",
    "            print(\"top:\",top)\n",
    "            print(\"profit:\",profit)\n",
    "            print(\"profit tmp:\",profit_tmp)\n",
    "            print()\n",
    "\n",
    "sol = Solution()\n",
    "prices = [1,2]\n",
    "sol.maxProfit(prices)       \n",
    "                \n",
    "            \n",
    "                "
   ]
  }
 ],
 "metadata": {
  "kernelspec": {
   "display_name": "LeetCode",
   "language": "python",
   "name": "python3"
  },
  "language_info": {
   "codemirror_mode": {
    "name": "ipython",
    "version": 3
   },
   "file_extension": ".py",
   "mimetype": "text/x-python",
   "name": "python",
   "nbconvert_exporter": "python",
   "pygments_lexer": "ipython3",
   "version": "3.10.8 (main, Nov 24 2022, 14:13:03) [GCC 11.2.0]"
  },
  "orig_nbformat": 4,
  "vscode": {
   "interpreter": {
    "hash": "f6bc879a1385e8122ad46fe8597f2eccbe0c3a28a29ee913b33b5a9ee828dd15"
   }
  }
 },
 "nbformat": 4,
 "nbformat_minor": 2
}
