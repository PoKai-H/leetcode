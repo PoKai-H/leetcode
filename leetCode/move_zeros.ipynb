{
 "cells": [
  {
   "cell_type": "code",
   "execution_count": 24,
   "metadata": {},
   "outputs": [
    {
     "name": "stdout",
     "output_type": "stream",
     "text": [
      "2\n",
      "[1, 0, 0, 3, 12]\n",
      "[1, 0, 0, 3, 12]\n",
      "[1, 0, 3, 0, 12]\n",
      "[1, 0, 3, 12, 0]\n",
      "[1, 0, 3, 12, 0]\n",
      "[1, 3, 0, 12, 0]\n",
      "[1, 3, 12, 0, 0]\n",
      "[1, 3, 12, 0, 0]\n"
     ]
    },
    {
     "data": {
      "text/plain": [
       "[1, 3, 12, 0, 0]"
      ]
     },
     "execution_count": 24,
     "metadata": {},
     "output_type": "execute_result"
    }
   ],
   "source": [
    "class Solution:\n",
    "    def moveZeroes(self, nums: list[int]) -> None:\n",
    "        \"\"\"\n",
    "        Do not return anything, modify nums in-place instead.\n",
    "        \"\"\"\n",
    "        count = 0\n",
    "        for k in range(len(nums)):\n",
    "            if nums[k] == 0:\n",
    "                count+=1\n",
    "        print(count)\n",
    "        j = count\n",
    "        while j >0:\n",
    "            i = 0\n",
    "            while i!=len(nums)-1:\n",
    "                if nums[i] ==0 :\n",
    "                    nums[i], nums[i+1] = nums[i+1], nums[i]   \n",
    "                i+=1\n",
    "                print(nums)\n",
    "            j-=1\n",
    "        return nums\n",
    "\n",
    "sol = Solution()\n",
    "nums = [0,1,0,3,12]\n",
    "sol.moveZeroes(nums)"
   ]
  },
  {
   "cell_type": "code",
   "execution_count": 28,
   "metadata": {},
   "outputs": [
    {
     "name": "stdout",
     "output_type": "stream",
     "text": [
      "1 1\n",
      "2 2\n",
      "3 2\n",
      "4 3\n",
      "5 4\n"
     ]
    },
    {
     "data": {
      "text/plain": [
       "[1, 1, 3, 12, 0]"
      ]
     },
     "execution_count": 28,
     "metadata": {},
     "output_type": "execute_result"
    }
   ],
   "source": [
    "class Solution:\n",
    "    def moveZeroes(self, nums: list[int]) -> None:\n",
    "        i, j = 0, 0\n",
    "        while i != len(nums):\n",
    "            if nums[i]!=0:\n",
    "                nums[i], nums[j] = nums[j], nums[i]\n",
    "                j+=1\n",
    "            i+=1\n",
    "            print(i,j)\n",
    "        return nums\n",
    "\n",
    "sol = Solution()\n",
    "nums = [1,1,0,3,12]\n",
    "sol.moveZeroes(nums)"
   ]
  },
  {
   "cell_type": "code",
   "execution_count": 31,
   "metadata": {},
   "outputs": [
    {
     "data": {
      "text/plain": [
       "[1, 0, 0]"
      ]
     },
     "execution_count": 31,
     "metadata": {},
     "output_type": "execute_result"
    }
   ],
   "source": [
    "class Solution:\n",
    "    def moveZeroes(self, nums: list[int]) -> None:\n",
    "        count = 0\n",
    "        for i in range(len(nums)-1,-1,-1):\n",
    "            if nums[i] == 0:\n",
    "                nums.pop(i)\n",
    "                count+=1\n",
    "            \n",
    "        for j in range(count):\n",
    "            nums.append(0)\n",
    "        return nums\n",
    "\n",
    "sol = Solution()\n",
    "nums = [0,0,1]\n",
    "sol.moveZeroes(nums)"
   ]
  }
 ],
 "metadata": {
  "kernelspec": {
   "display_name": "LeetCode",
   "language": "python",
   "name": "python3"
  },
  "language_info": {
   "codemirror_mode": {
    "name": "ipython",
    "version": 3
   },
   "file_extension": ".py",
   "mimetype": "text/x-python",
   "name": "python",
   "nbconvert_exporter": "python",
   "pygments_lexer": "ipython3",
   "version": "3.10.8 (main, Nov 24 2022, 14:13:03) [GCC 11.2.0]"
  },
  "orig_nbformat": 4,
  "vscode": {
   "interpreter": {
    "hash": "f6bc879a1385e8122ad46fe8597f2eccbe0c3a28a29ee913b33b5a9ee828dd15"
   }
  }
 },
 "nbformat": 4,
 "nbformat_minor": 2
}
