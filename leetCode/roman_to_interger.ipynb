{
 "cells": [
  {
   "cell_type": "code",
   "execution_count": 25,
   "metadata": {},
   "outputs": [
    {
     "data": {
      "text/plain": [
       "1994"
      ]
     },
     "execution_count": 25,
     "metadata": {},
     "output_type": "execute_result"
    }
   ],
   "source": [
    "class Solution:\n",
    "    def romanToInt(self, s:str):\n",
    "        to_int = {\n",
    "            \"I\": 1,\n",
    "            \"V\": 5,\n",
    "            \"X\": 10,\n",
    "            \"L\": 50,\n",
    "            \"C\": 100,\n",
    "            \"D\": 500,\n",
    "            \"M\": 1000\n",
    "        }\n",
    "        \n",
    "        total = 0\n",
    "        last=None\n",
    "        for i in range(len(s)):\n",
    "            if last!=None :\n",
    "                if to_int[last] < to_int[s[i]]:\n",
    "                    total += to_int[s[i]] - to_int[last]\n",
    "                    last = None\n",
    "                else:\n",
    "                    total += to_int[last]\n",
    "                    last = s[i]\n",
    "            else:\n",
    "                last = s[i]\n",
    "        if last!= None:\n",
    "            total+=to_int[last]\n",
    "        return total\n",
    "\n",
    "s = \"MCMXCIV\"\n",
    "sol = Solution()\n",
    "sol.romanToInt(s)"
   ]
  },
  {
   "cell_type": "code",
   "execution_count": 23,
   "metadata": {},
   "outputs": [
    {
     "ename": "TypeError",
     "evalue": "object of type 'types.GenericAlias' has no len()",
     "output_type": "error",
     "traceback": [
      "\u001b[0;31m---------------------------------------------------------------------------\u001b[0m",
      "\u001b[0;31mTypeError\u001b[0m                                 Traceback (most recent call last)",
      "Cell \u001b[0;32mIn[23], line 3\u001b[0m\n\u001b[1;32m      1\u001b[0m s \u001b[39m=\u001b[39m\u001b[39m'\u001b[39m\u001b[39mMCMXCIV\u001b[39m\u001b[39m'\u001b[39m\n\u001b[1;32m      2\u001b[0m s_list \u001b[39m=\u001b[39m \u001b[39mlist\u001b[39m[s]\n\u001b[0;32m----> 3\u001b[0m \u001b[39mlen\u001b[39;49m(s_list)\n",
      "\u001b[0;31mTypeError\u001b[0m: object of type 'types.GenericAlias' has no len()"
     ]
    }
   ],
   "source": [
    "class Solution:\n",
    "\tdef rom2int(self, s: str) -> int:\n",
    "\t\troman = {'M': 1000, 'D': 500, 'C': 100, 'L': 50, 'X': 10, 'V': 5, 'I': 1}\n",
    "\t\tprev_val = 0\n",
    "\t\tans = 0\n",
    "\t\tfor letter in s[-1::-1]:\n",
    "\t\t    if roman[letter] > prev_val:\n",
    "\t\t\t    ans -= roman[letter]\n",
    "            else:\n",
    "\t\t\t    ans += roman[letter]\n",
    "\t\t    prev_val = roman[letter]\n",
    "\treturn ans"
   ]
  },
  {
   "cell_type": "code",
   "execution_count": 33,
   "metadata": {},
   "outputs": [
    {
     "data": {
      "text/plain": [
       "-1"
      ]
     },
     "execution_count": 33,
     "metadata": {},
     "output_type": "execute_result"
    }
   ],
   "source": [
    "class Solution:\n",
    "    def romanToInt(self, s: str):\n",
    "        roman = {\"M\": 1000, \"D\": 500, \"C\": 100, \"L\": 50, \"X\": 10, \"V\":5, \"I\":1}\n",
    "        prev_val = 0\n",
    "        ans = 0\n",
    "        for letter in s[-1::-1]:\n",
    "            if roman[letter] > prev_val:\n",
    "                ans -= roman[letter]\n",
    "            else:\n",
    "                ans += roman[letter]\n",
    "            prev_val = roman[letter]\n",
    "        return -ans\n",
    "\n",
    "s = \"III\"\n",
    "sol = Solution()\n",
    "sol.romanToInt(s)"
   ]
  },
  {
   "cell_type": "code",
   "execution_count": null,
   "metadata": {},
   "outputs": [],
   "source": []
  }
 ],
 "metadata": {
  "kernelspec": {
   "display_name": "LeetCode",
   "language": "python",
   "name": "python3"
  },
  "language_info": {
   "codemirror_mode": {
    "name": "ipython",
    "version": 3
   },
   "file_extension": ".py",
   "mimetype": "text/x-python",
   "name": "python",
   "nbconvert_exporter": "python",
   "pygments_lexer": "ipython3",
   "version": "3.10.8 (main, Nov 24 2022, 14:13:03) [GCC 11.2.0]"
  },
  "orig_nbformat": 4,
  "vscode": {
   "interpreter": {
    "hash": "f6bc879a1385e8122ad46fe8597f2eccbe0c3a28a29ee913b33b5a9ee828dd15"
   }
  }
 },
 "nbformat": 4,
 "nbformat_minor": 2
}
