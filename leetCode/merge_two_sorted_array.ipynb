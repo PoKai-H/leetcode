{
 "cells": [
  {
   "cell_type": "code",
   "execution_count": 27,
   "metadata": {},
   "outputs": [
    {
     "name": "stdout",
     "output_type": "stream",
     "text": [
      "[1, 4, 0, 0, 0, 0]\n",
      "ptr1: 0\n",
      "ptr2: 1\n",
      "first\n",
      "[1, 4, 0, 0, 0, 0]\n",
      "ptr1: 1\n",
      "ptr2: 1\n",
      "first\n",
      "[1, 4, 2, 0, 0, 0, 0]\n",
      "1\n",
      "2\n",
      "second\n",
      "[1, 4, 2, 3, 0, 0, 0, 0]\n",
      "1\n",
      "3\n",
      "second\n",
      "[1, 4, 2, 3, 5, 0, 0, 0, 0]\n",
      "1\n",
      "4\n",
      "second\n",
      "[1, 4, 2, 3, 5, 6, 0, 0, 0, 0]\n",
      "1\n",
      "5\n",
      "second\n"
     ]
    }
   ],
   "source": [
    "class Solution:\n",
    "    def merge(self, nums1: list[int], m: int, nums2: list[int], n: int) -> None:\n",
    "        ptr1 = 0\n",
    "        ptr2 = 0\n",
    "        while ptr1 <= m-1 and ptr2 <=n-1:\n",
    "            if nums1[ptr1] > nums2[ptr2]:\n",
    "                nums1.insert(ptr1, nums2[ptr2])\n",
    "                ptr2 +=1\n",
    "                nums1.pop()\n",
    "            else:\n",
    "                ptr1+=1\n",
    "            print(nums1)\n",
    "            print(\"ptr1:\",ptr1)\n",
    "            print(\"ptr2:\",ptr2)\n",
    "            print(\"first\")\n",
    "        while ptr2 < n and ptr1 == m:\n",
    "                nums1.insert(ptr1+ptr2, nums2[ptr2])\n",
    "                ptr2 +=1\n",
    "                print(nums1)\n",
    "                print(ptr1)\n",
    "                print(ptr2)\n",
    "                print(\"second\")\n",
    "          \n",
    "nums1 = [4,0,0,0,0,0]\n",
    "m = 1\n",
    "nums2 = [1,2,3,5,6]\n",
    "n = 5\n",
    "sol = Solution()\n",
    "sol.merge(nums1,m,nums2,n)"
   ]
  },
  {
   "cell_type": "code",
   "execution_count": 26,
   "metadata": {},
   "outputs": [
    {
     "name": "stdout",
     "output_type": "stream",
     "text": [
      "ptr1 -1\n",
      "ptr2 0\n",
      "last 0\n",
      "[1]\n",
      "ptr1 -1\n",
      "nums1: 1\n",
      "ptr2 -1\n",
      "nums2 1\n"
     ]
    }
   ],
   "source": [
    "class Solution:\n",
    "    def merge(self, nums1: list[int], m: int, nums2: list[int], n: int) -> None:\n",
    "        ptr1 = m-1\n",
    "        ptr2 = n-1\n",
    "        last = m+n-1\n",
    "       \n",
    "        for i in range(m+n):\n",
    "            if ptr2 > -1 and ptr1 > -1:\n",
    "                if nums1[ptr1] >= nums2[ptr2]:\n",
    "                    nums1[last] = nums1[ptr1]\n",
    "                    last-=1\n",
    "                    ptr1-=1\n",
    "                elif nums1[ptr1] < nums2[ptr2]:\n",
    "                    nums1[last] = nums2[ptr2]\n",
    "                    last-=1\n",
    "                    ptr2-=1\n",
    "            else : \n",
    "                # print(\"ptr1\",ptr1)\n",
    "                # print(\"ptr2\",ptr2)\n",
    "                # print(\"last\",last)\n",
    "                if ptr2 > -1 :\n",
    "                    nums1[last] = nums2[ptr2]\n",
    "                    last-=1\n",
    "                    ptr2-=1\n",
    "                elif ptr1> -1:\n",
    "                    nums1[last] = nums1[last]\n",
    "                    last-=1\n",
    "                    ptr1-=1\n",
    "                else:\n",
    "                    break\n",
    "            print(nums1)\n",
    "            print(\"ptr1\",ptr1)\n",
    "            print('nums1:',nums1[ptr1])\n",
    "            print(\"ptr2\",ptr2)\n",
    "            print('nums2',nums2[ptr2])\n",
    "nums1 = [0]\n",
    "m = 0\n",
    "nums2 = [1]\n",
    "n = 1\n",
    "sol = Solution()\n",
    "sol.merge(nums1,m,nums2,n)"
   ]
  },
  {
   "cell_type": "code",
   "execution_count": 28,
   "metadata": {},
   "outputs": [
    {
     "name": "stdout",
     "output_type": "stream",
     "text": [
      "[4, 0, 0, 0, 0, 6]\n",
      "[4, 0, 0, 0, 5, 6]\n",
      "[4, 0, 0, 4, 5, 6]\n",
      "[4, 0, 3, 4, 5, 6]\n",
      "[4, 2, 3, 4, 5, 6]\n",
      "[1, 2, 3, 4, 5, 6]\n"
     ]
    }
   ],
   "source": [
    "class Solution:\n",
    "    def merge(self, nums1: list[int], m: int, nums2: list[int], n: int) -> None:\n",
    "        ptr1 = m-1\n",
    "        ptr2 = n-1\n",
    "        last = m+n-1\n",
    "        while ptr2 >= 0:\n",
    "            if ptr1 >=0 and nums1[ptr1] > nums2[ptr2]:\n",
    "                nums1[last] = nums1[ptr1]\n",
    "                ptr1-=1\n",
    "                \n",
    "            else:\n",
    "                nums1[last] = nums2[ptr2]\n",
    "                ptr2-=1\n",
    "            last-=1\n",
    "            print(nums1)\n",
    "                \n",
    "nums1 = [4,0,0,0,0,0]\n",
    "m = 1\n",
    "nums2 = [1,2,3,5,6]\n",
    "n = 5\n",
    "sol = Solution()\n",
    "sol.merge(nums1,m,nums2,n)"
   ]
  },
  {
   "cell_type": "code",
   "execution_count": 29,
   "metadata": {},
   "outputs": [
    {
     "name": "stdout",
     "output_type": "stream",
     "text": [
      "[4, 0, 0, 0, 0, 6]\n",
      "[4, 0, 0, 0, 5, 6]\n",
      "[4, 0, 0, 4, 5, 6]\n",
      "[4, 0, 3, 4, 5, 6]\n",
      "[4, 2, 3, 4, 5, 6]\n",
      "[1, 2, 3, 4, 5, 6]\n"
     ]
    }
   ],
   "source": [
    "class Solution:\n",
    "    def merge(self, nums1: list[int], m: int, nums2: list[int], n: int) -> None:\n",
    "        ptr1 = m-1\n",
    "        ptr2 = n-1\n",
    "        last = m+n-1\n",
    "       \n",
    "        for i in range(m+n):\n",
    "            if ptr1 >=0 and nums1[ptr1] > nums2[ptr2]:\n",
    "                nums1[last] = nums1[ptr1]\n",
    "                ptr1-=1\n",
    "                \n",
    "            else:\n",
    "                nums1[last] = nums2[ptr2]\n",
    "                ptr2-=1\n",
    "            last-=1\n",
    "            print(nums1)\n",
    "\n",
    "nums1 = [4,0,0,0,0,0]\n",
    "m = 1\n",
    "nums2 = [1,2,3,5,6]\n",
    "n = 5\n",
    "sol = Solution()\n",
    "sol.merge(nums1,m,nums2,n)"
   ]
  }
 ],
 "metadata": {
  "kernelspec": {
   "display_name": "LeetCode",
   "language": "python",
   "name": "python3"
  },
  "language_info": {
   "codemirror_mode": {
    "name": "ipython",
    "version": 3
   },
   "file_extension": ".py",
   "mimetype": "text/x-python",
   "name": "python",
   "nbconvert_exporter": "python",
   "pygments_lexer": "ipython3",
   "version": "3.10.8 (main, Nov 24 2022, 14:13:03) [GCC 11.2.0]"
  },
  "orig_nbformat": 4,
  "vscode": {
   "interpreter": {
    "hash": "f6bc879a1385e8122ad46fe8597f2eccbe0c3a28a29ee913b33b5a9ee828dd15"
   }
  }
 },
 "nbformat": 4,
 "nbformat_minor": 2
}
