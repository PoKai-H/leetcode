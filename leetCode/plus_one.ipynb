{
 "cells": [
  {
   "cell_type": "code",
   "execution_count": 19,
   "metadata": {},
   "outputs": [
    {
     "name": "stdout",
     "output_type": "stream",
     "text": [
      "124\n"
     ]
    },
    {
     "data": {
      "text/plain": [
       "[1, 2, 4]"
      ]
     },
     "execution_count": 19,
     "metadata": {},
     "output_type": "execute_result"
    }
   ],
   "source": [
    "class Solution:\n",
    "    def plusOne(self, List):\n",
    "        new_list = [str(num) for num in List]\n",
    "        num_list =''\n",
    "        for num in new_list:\n",
    "            num_list+=num\n",
    "        result = str(int(num_list)+1)\n",
    "        print(result)\n",
    "        res  = [int(num) for num in result ]\n",
    "        return res\n",
    "    \n",
    "\n",
    "sol = Solution()\n",
    "data = [1,2,3]\n",
    "sol.plusOne(data)"
   ]
  },
  {
   "cell_type": "code",
   "execution_count": 30,
   "metadata": {},
   "outputs": [
    {
     "name": "stdout",
     "output_type": "stream",
     "text": [
      "<class 'str'>\n",
      "124\n",
      "[1, 2, 4]\n"
     ]
    }
   ],
   "source": [
    "class Solution:\n",
    "    def plusOne(self, digits:list):\n",
    "        new_list = ''.join(map(str, digits))\n",
    "        res = str(int(new_list)+1)\n",
    "        #new_list = ''.join(str(digits))\n",
    "        print(type(res))\n",
    "        print(res)\n",
    "        result = [int(num) for num in res]\n",
    "        print(result)\n",
    "\n",
    "sol = Solution()\n",
    "data = [1,2,3]\n",
    "sol.plusOne(data)"
   ]
  },
  {
   "cell_type": "code",
   "execution_count": null,
   "metadata": {},
   "outputs": [],
   "source": []
  }
 ],
 "metadata": {
  "kernelspec": {
   "display_name": "LeetCode",
   "language": "python",
   "name": "python3"
  },
  "language_info": {
   "codemirror_mode": {
    "name": "ipython",
    "version": 3
   },
   "file_extension": ".py",
   "mimetype": "text/x-python",
   "name": "python",
   "nbconvert_exporter": "python",
   "pygments_lexer": "ipython3",
   "version": "3.10.8"
  },
  "orig_nbformat": 4,
  "vscode": {
   "interpreter": {
    "hash": "f6bc879a1385e8122ad46fe8597f2eccbe0c3a28a29ee913b33b5a9ee828dd15"
   }
  }
 },
 "nbformat": 4,
 "nbformat_minor": 2
}
