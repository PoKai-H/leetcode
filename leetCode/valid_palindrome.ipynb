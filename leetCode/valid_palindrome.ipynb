{
 "cells": [
  {
   "cell_type": "code",
   "execution_count": 4,
   "metadata": {},
   "outputs": [
    {
     "data": {
      "text/plain": [
       "False"
      ]
     },
     "execution_count": 4,
     "metadata": {},
     "output_type": "execute_result"
    }
   ],
   "source": [
    "import re\n",
    "class Solution:\n",
    "    def isPalindrome(self, s: str) -> bool:\n",
    "        string = re.sub(r\"[^a-zA-Z0-9]\", \"\", s).lower()\n",
    "        if len(string):\n",
    "            for i in range(int(len(string)/2)+1):\n",
    "                if string[i] != string[-(i+1)]:\n",
    "                    return False\n",
    "            return True\n",
    "        else:\n",
    "            return True\n",
    "        \n",
    "\n",
    "sol = Solution()\n",
    "s = \"race a car\"\n",
    "sol.isPalindrome(s)"
   ]
  },
  {
   "cell_type": "code",
   "execution_count": 7,
   "metadata": {},
   "outputs": [
    {
     "data": {
      "text/plain": [
       "False"
      ]
     },
     "execution_count": 7,
     "metadata": {},
     "output_type": "execute_result"
    }
   ],
   "source": [
    "import re\n",
    "class Solution:\n",
    "    def isPalindrome(self, s: str) -> bool:\n",
    "        string = re.sub(r\"[^a-zA-Z0-9]\", \"\", s).lower()\n",
    "        left = 0\n",
    "        right = len(string)-1\n",
    "        while left < right:\n",
    "            if string[left]!=string[right]:\n",
    "                return False\n",
    "            left+=1\n",
    "            right-=1\n",
    "        return True\n",
    "\n",
    "sol = Solution()\n",
    "s = \"race a car\"\n",
    "sol.isPalindrome(s)"
   ]
  },
  {
   "cell_type": "code",
   "execution_count": null,
   "metadata": {},
   "outputs": [],
   "source": []
  }
 ],
 "metadata": {
  "kernelspec": {
   "display_name": "LeetCode",
   "language": "python",
   "name": "python3"
  },
  "language_info": {
   "codemirror_mode": {
    "name": "ipython",
    "version": 3
   },
   "file_extension": ".py",
   "mimetype": "text/x-python",
   "name": "python",
   "nbconvert_exporter": "python",
   "pygments_lexer": "ipython3",
   "version": "3.10.8"
  },
  "orig_nbformat": 4,
  "vscode": {
   "interpreter": {
    "hash": "f6bc879a1385e8122ad46fe8597f2eccbe0c3a28a29ee913b33b5a9ee828dd15"
   }
  }
 },
 "nbformat": 4,
 "nbformat_minor": 2
}
