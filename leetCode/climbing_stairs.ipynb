{
 "cells": [
  {
   "cell_type": "code",
   "execution_count": 31,
   "metadata": {},
   "outputs": [
    {
     "name": "stdout",
     "output_type": "stream",
     "text": [
      "1\n",
      "5.0\n",
      "8.0\n"
     ]
    }
   ],
   "source": [
    "class Solution:\n",
    "    def climbStairs(self, n: int) -> int:\n",
    "        m = 0\n",
    "        k = n-m\n",
    "        count = 0\n",
    "        while m <= k:\n",
    "            if m == 0:\n",
    "                count +=1\n",
    "                \n",
    "            else:\n",
    "                top = self.factorial(k)\n",
    "                bot = self.factorial(k-m)*self.factorial(m)\n",
    "                count += top/bot\n",
    "            m += 1\n",
    "            k -= 1\n",
    "    def factorial(self, n):\n",
    "        return 1 if n==1 or n==0 else n*self.factorial(n-1)\n",
    "sol = Solution()\n",
    "stairs = 5\n",
    "sol.climbStairs(stairs)"
   ]
  },
  {
   "cell_type": "code",
   "execution_count": 18,
   "metadata": {},
   "outputs": [
    {
     "data": {
      "text/plain": [
       "6"
      ]
     },
     "execution_count": 18,
     "metadata": {},
     "output_type": "execute_result"
    }
   ],
   "source": [
    "def factorial(n):\n",
    "    return 1 if n==1 or n==0 else n*factorial(n-1)\n",
    "factorial(3)"
   ]
  },
  {
   "cell_type": "code",
   "execution_count": 32,
   "metadata": {},
   "outputs": [
    {
     "name": "stdout",
     "output_type": "stream",
     "text": [
      "i= 0\n",
      "i= 1\n",
      "i= 2\n",
      "i= 3\n"
     ]
    },
    {
     "data": {
      "text/plain": [
       "8"
      ]
     },
     "execution_count": 32,
     "metadata": {},
     "output_type": "execute_result"
    }
   ],
   "source": [
    "class Solution:\n",
    "    def climbStairs(self, n: int) -> int:\n",
    "        one = 1\n",
    "        two = 1\n",
    "        for i in range (n-1):\n",
    "            tmp = one\n",
    "            one = one + two\n",
    "            two = tmp\n",
    "            print('i=',i)\n",
    "\n",
    "\n",
    "        return one\n",
    "\n",
    "\n",
    "sol = Solution()\n",
    "stairs = 5\n",
    "sol.climbStairs(stairs)"
   ]
  },
  {
   "attachments": {},
   "cell_type": "markdown",
   "metadata": {},
   "source": [
    "https://leetcode.com/problems/climbing-stairs/solutions/2838028/100-best-solution/?languageTags=python3"
   ]
  },
  {
   "cell_type": "code",
   "execution_count": 33,
   "metadata": {},
   "outputs": [
    {
     "data": {
      "text/plain": [
       "8"
      ]
     },
     "execution_count": 33,
     "metadata": {},
     "output_type": "execute_result"
    }
   ],
   "source": [
    "class Solution:\n",
    "    def climbStairs(self, n: int) -> int:\n",
    "        one = 1\n",
    "        two = 1\n",
    "        for i in range(n-1):\n",
    "            one, two = one+two, one\n",
    "        return one\n",
    "\n",
    "sol = Solution()\n",
    "stairs = 5\n",
    "sol.climbStairs(stairs)    "
   ]
  }
 ],
 "metadata": {
  "kernelspec": {
   "display_name": "LeetCode",
   "language": "python",
   "name": "python3"
  },
  "language_info": {
   "codemirror_mode": {
    "name": "ipython",
    "version": 3
   },
   "file_extension": ".py",
   "mimetype": "text/x-python",
   "name": "python",
   "nbconvert_exporter": "python",
   "pygments_lexer": "ipython3",
   "version": "3.10.8 (main, Nov 24 2022, 14:13:03) [GCC 11.2.0]"
  },
  "orig_nbformat": 4,
  "vscode": {
   "interpreter": {
    "hash": "f6bc879a1385e8122ad46fe8597f2eccbe0c3a28a29ee913b33b5a9ee828dd15"
   }
  }
 },
 "nbformat": 4,
 "nbformat_minor": 2
}
