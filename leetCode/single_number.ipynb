{
 "cells": [
  {
   "cell_type": "code",
   "execution_count": 5,
   "metadata": {},
   "outputs": [
    {
     "data": {
      "text/plain": [
       "4"
      ]
     },
     "execution_count": 5,
     "metadata": {},
     "output_type": "execute_result"
    }
   ],
   "source": [
    "class SingleNumber:\n",
    "    def solution(self, nums:list[int]):\n",
    "        hash = {}\n",
    "        for num in nums:\n",
    "            if num not in hash:\n",
    "                hash[num] = 1\n",
    "            else:\n",
    "                hash[num]+= 1\n",
    "        \n",
    "        key = [i for i in hash if hash[i]== 1]\n",
    "        return key[0]\n",
    "sol = SingleNumber()\n",
    "nums = [4,1,2,1,2]\n",
    "sol.solution(nums)"
   ]
  },
  {
   "attachments": {},
   "cell_type": "markdown",
   "metadata": {},
   "source": [
    "The idea is when you XOR a number with itself (since it will appear TWICE only )it will result in a 0, so when you XOR all the elements the end result will be the element that is appearing once only"
   ]
  },
  {
   "cell_type": "code",
   "execution_count": 7,
   "metadata": {},
   "outputs": [
    {
     "name": "stdout",
     "output_type": "stream",
     "text": [
      "4\n",
      "5\n",
      "7\n",
      "6\n",
      "4\n"
     ]
    },
    {
     "data": {
      "text/plain": [
       "4"
      ]
     },
     "execution_count": 7,
     "metadata": {},
     "output_type": "execute_result"
    }
   ],
   "source": [
    "class SingleNumber:\n",
    "    def solution(self, nums:list[int]):\n",
    "        unique = 0\n",
    "        for num in nums:\n",
    "            unique ^= num\n",
    "            print(unique)\n",
    "        return unique\n",
    "sol = SingleNumber()\n",
    "nums = [4,1,2,1,2]\n",
    "sol.solution(nums)"
   ]
  },
  {
   "cell_type": "code",
   "execution_count": null,
   "metadata": {},
   "outputs": [],
   "source": []
  }
 ],
 "metadata": {
  "kernelspec": {
   "display_name": "LeetCode",
   "language": "python",
   "name": "python3"
  },
  "language_info": {
   "codemirror_mode": {
    "name": "ipython",
    "version": 3
   },
   "file_extension": ".py",
   "mimetype": "text/x-python",
   "name": "python",
   "nbconvert_exporter": "python",
   "pygments_lexer": "ipython3",
   "version": "3.10.8 (main, Nov 24 2022, 14:13:03) [GCC 11.2.0]"
  },
  "orig_nbformat": 4,
  "vscode": {
   "interpreter": {
    "hash": "f6bc879a1385e8122ad46fe8597f2eccbe0c3a28a29ee913b33b5a9ee828dd15"
   }
  }
 },
 "nbformat": 4,
 "nbformat_minor": 2
}
