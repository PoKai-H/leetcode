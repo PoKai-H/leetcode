{
 "cells": [
  {
   "cell_type": "code",
   "execution_count": null,
   "metadata": {},
   "outputs": [],
   "source": [
    "# Definition for singly-linked list.\n",
    "class ListNode:\n",
    "    def __init__(self, val=0, next=None):\n",
    "        self.val = val\n",
    "        self.next = next\n",
    "class Solution:\n",
    "    def mergeTwoLists(self, list1: Optional[ListNode], list2: Optional[ListNode]) -> Optional[ListNode]:\n",
    "        tmp = ListNode()    # 此處做法 = 設 dummy node, 第一個節點沒有前驅節點, 需要特殊處理 \n",
    "        ptr = tmp           # 這裡將 pointer 指向 dummy node\n",
    "        while list1 and list2:\n",
    "            if list1.val > list2.val:\n",
    "                ptr.next = list2\n",
    "                list2 = list2.next\n",
    "            else:\n",
    "                ptr.next = list1\n",
    "                list1 = list1.next\n",
    "            ptr = ptr.next\n",
    "        if list1:\n",
    "            ptr.next = list1\n",
    "            list1 = list1.next\n",
    "            ptr = ptr.next\n",
    "        elif list2:\n",
    "            ptr.next = list2\n",
    "            list2 = list2.next\n",
    "            ptr = ptr.next\n",
    "        return tmp.next\n"
   ]
  },
  {
   "cell_type": "code",
   "execution_count": 6,
   "metadata": {},
   "outputs": [
    {
     "ename": "TypeError",
     "evalue": "'ListNode' object is not callable",
     "output_type": "error",
     "traceback": [
      "\u001b[0;31m---------------------------------------------------------------------------\u001b[0m",
      "\u001b[0;31mTypeError\u001b[0m                                 Traceback (most recent call last)",
      "Cell \u001b[0;32mIn[6], line 6\u001b[0m\n\u001b[1;32m      4\u001b[0m         \u001b[39mself\u001b[39m\u001b[39m.\u001b[39mnext \u001b[39m=\u001b[39m \u001b[39mnext\u001b[39m\n\u001b[1;32m      5\u001b[0m list1 \u001b[39m=\u001b[39m ListNode()\n\u001b[0;32m----> 6\u001b[0m n1\u001b[39m=\u001b[39m list1(\u001b[39m1\u001b[39;49m)\n\u001b[1;32m      7\u001b[0m n2 \u001b[39m=\u001b[39m list1(\u001b[39m2\u001b[39m)\n\u001b[1;32m      8\u001b[0m n3 \u001b[39m=\u001b[39m list1(\u001b[39m4\u001b[39m)\n",
      "\u001b[0;31mTypeError\u001b[0m: 'ListNode' object is not callable"
     ]
    }
   ],
   "source": [
    "class ListNode:\n",
    "    def __init__(self, val = 0, next = None):\n",
    "        self.val = val\n",
    "        self.next = next\n",
    "list1 = ListNode()\n",
    "n1= list1(1)\n",
    "n2 = list1(2)\n",
    "n3 = list1(4)\n",
    "n1.next = n2\n",
    "n2.next = n3\n",
    "\n",
    "list2 = ListNode()\n",
    "n4 = list2(1)\n",
    "n5 = list2(3)\n",
    "n6 = list2(4)\n",
    "n4.next = n5\n",
    "n5.next = n6\n",
    "\n",
    "while list1:\n",
    "    print(list1.data)\n",
    "    list1 = list1.next\n",
    "\n",
    "# class Solution:\n",
    "#     def mergeTwoLists(self, list1: ListNode, list2: ListNode) :\n",
    "#         tmp = ListNode()\n",
    "#         ptr = tmp\n",
    "#         while list1 and list2:\n",
    "#             if list1.val > list2.val:\n",
    "#                 ptr.next = list2\n",
    "#                 list2 = list2.next\n",
    "#             else:\n",
    "#                 ptr.next = list1\n",
    "#                 list1 = list1.next\n",
    "#             ptr = ptr.next\n",
    "#         if list1:\n",
    "#             ptr.next = list1\n",
    "#             list1 = list1.next\n",
    "#             ptr = ptr.next\n",
    "#         elif list2:\n",
    "#             ptr.next = list2\n",
    "#             list2 = list2.next\n",
    "#             ptr = ptr.next\n",
    "#         return tmp.next.val\n",
    "# sol = Solution()\n",
    "# sol.mergeTwoLists(n1, n4)"
   ]
  },
  {
   "cell_type": "code",
   "execution_count": null,
   "metadata": {},
   "outputs": [],
   "source": []
  }
 ],
 "metadata": {
  "kernelspec": {
   "display_name": "LeetCode",
   "language": "python",
   "name": "python3"
  },
  "language_info": {
   "codemirror_mode": {
    "name": "ipython",
    "version": 3
   },
   "file_extension": ".py",
   "mimetype": "text/x-python",
   "name": "python",
   "nbconvert_exporter": "python",
   "pygments_lexer": "ipython3",
   "version": "3.10.8 (main, Nov 24 2022, 14:13:03) [GCC 11.2.0]"
  },
  "orig_nbformat": 4,
  "vscode": {
   "interpreter": {
    "hash": "f6bc879a1385e8122ad46fe8597f2eccbe0c3a28a29ee913b33b5a9ee828dd15"
   }
  }
 },
 "nbformat": 4,
 "nbformat_minor": 2
}
