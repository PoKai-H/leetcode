{
 "cells": [
  {
   "cell_type": "code",
   "execution_count": 3,
   "metadata": {},
   "outputs": [
    {
     "ename": "AttributeError",
     "evalue": "'list' object has no attribute 'left'",
     "output_type": "error",
     "traceback": [
      "\u001b[0;31m---------------------------------------------------------------------------\u001b[0m",
      "\u001b[0;31mAttributeError\u001b[0m                            Traceback (most recent call last)",
      "Cell \u001b[0;32mIn[3], line 7\u001b[0m\n\u001b[1;32m      5\u001b[0m root \u001b[39m=\u001b[39m [\u001b[39m1\u001b[39m,\u001b[39mNone\u001b[39;00m,\u001b[39m2\u001b[39m,\u001b[39m3\u001b[39m]\n\u001b[1;32m      6\u001b[0m sol \u001b[39m=\u001b[39m Solution()\n\u001b[0;32m----> 7\u001b[0m sol\u001b[39m.\u001b[39;49minorderTraversal(root)\n",
      "Cell \u001b[0;32mIn[3], line 3\u001b[0m, in \u001b[0;36mSolution.inorderTraversal\u001b[0;34m(self, root)\u001b[0m\n\u001b[1;32m      2\u001b[0m \u001b[39mdef\u001b[39;00m \u001b[39minorderTraversal\u001b[39m(\u001b[39mself\u001b[39m, root:\u001b[39mlist\u001b[39m[\u001b[39mint\u001b[39m]):\n\u001b[0;32m----> 3\u001b[0m     \u001b[39mreturn\u001b[39;00m \u001b[39mself\u001b[39m\u001b[39m.\u001b[39minorderTraversal(root\u001b[39m.\u001b[39;49mleft) \u001b[39m+\u001b[39m [root\u001b[39m.\u001b[39mval] \u001b[39m+\u001b[39m \u001b[39mself\u001b[39m\u001b[39m.\u001b[39minorderTraversal(root\u001b[39m.\u001b[39mright) \u001b[39mif\u001b[39;00m root \u001b[39melse\u001b[39;00m []\n",
      "\u001b[0;31mAttributeError\u001b[0m: 'list' object has no attribute 'left'"
     ]
    }
   ],
   "source": [
    "class Solution:\n",
    "    def inorderTraversal(self, root:list[int]):\n",
    "        return self.inorderTraversal(root.left) + [root.val] + self.inorderTraversal(root.right) if root else []\n",
    "\n",
    "root = [1,None,2,3]\n",
    "sol = Solution()\n",
    "sol.inorderTraversal(root)"
   ]
  },
  {
   "cell_type": "code",
   "execution_count": null,
   "metadata": {},
   "outputs": [],
   "source": []
  }
 ],
 "metadata": {
  "kernelspec": {
   "display_name": "LeetCode",
   "language": "python",
   "name": "python3"
  },
  "language_info": {
   "codemirror_mode": {
    "name": "ipython",
    "version": 3
   },
   "file_extension": ".py",
   "mimetype": "text/x-python",
   "name": "python",
   "nbconvert_exporter": "python",
   "pygments_lexer": "ipython3",
   "version": "3.10.8 (main, Nov 24 2022, 14:13:03) [GCC 11.2.0]"
  },
  "orig_nbformat": 4,
  "vscode": {
   "interpreter": {
    "hash": "f6bc879a1385e8122ad46fe8597f2eccbe0c3a28a29ee913b33b5a9ee828dd15"
   }
  }
 },
 "nbformat": 4,
 "nbformat_minor": 2
}
