{
 "cells": [
  {
   "cell_type": "code",
   "execution_count": 52,
   "metadata": {},
   "outputs": [
    {
     "ename": "IndexError",
     "evalue": "list index out of range",
     "output_type": "error",
     "traceback": [
      "\u001b[0;31m---------------------------------------------------------------------------\u001b[0m",
      "\u001b[0;31mIndexError\u001b[0m                                Traceback (most recent call last)",
      "Cell \u001b[0;32mIn[52], line 39\u001b[0m\n\u001b[1;32m     37\u001b[0m strs \u001b[39m=\u001b[39m [\u001b[39m\"\u001b[39m\u001b[39mflower\u001b[39m\u001b[39m\"\u001b[39m,\u001b[39m\"\u001b[39m\u001b[39mflow\u001b[39m\u001b[39m\"\u001b[39m,\u001b[39m\"\u001b[39m\u001b[39mflight\u001b[39m\u001b[39m\"\u001b[39m]\n\u001b[1;32m     38\u001b[0m sol \u001b[39m=\u001b[39m Solution()\n\u001b[0;32m---> 39\u001b[0m sol\u001b[39m.\u001b[39;49mlongestCommonPrefix(strs)\n",
      "Cell \u001b[0;32mIn[52], line 15\u001b[0m, in \u001b[0;36mSolution.longestCommonPrefix\u001b[0;34m(self, strs)\u001b[0m\n\u001b[1;32m     13\u001b[0m     pre \u001b[39m=\u001b[39m []\n\u001b[1;32m     14\u001b[0m     \u001b[39mfor\u001b[39;00m i \u001b[39min\u001b[39;00m scores[\u001b[39m0\u001b[39m]:\n\u001b[0;32m---> 15\u001b[0m         \u001b[39mif\u001b[39;00m scores[\u001b[39m0\u001b[39;49m][i] \u001b[39m==\u001b[39m i\u001b[39m+\u001b[39m\u001b[39m1\u001b[39m:\n\u001b[1;32m     16\u001b[0m             pre\u001b[39m.\u001b[39mappend(str_list[\u001b[39m0\u001b[39m][i])\n\u001b[1;32m     17\u001b[0m \u001b[39melse\u001b[39;00m:\n",
      "\u001b[0;31mIndexError\u001b[0m: list index out of range"
     ]
    }
   ],
   "source": [
    "class Solution:\n",
    "    def longestCommonPrefix(self, strs: list[str]) -> str:\n",
    "        str_list = [list(i) for i in strs]\n",
    "        if len(str_list) == 1:\n",
    "            return strs[0]\n",
    "        else:\n",
    "            scores=[[0]*len(str_list[1])]*len(str_list[0])\n",
    "            for i in range(len(str_list[0])):\n",
    "                for j in range(len(str_list[1])):\n",
    "                    if str_list[1][j] == str_list[0][i]:\n",
    "                        scores[i][j] = scores[i-1][j-1]+1\n",
    "            if len(str_list[0])!= 0 :\n",
    "                pre = []\n",
    "                for i in scores[0]:\n",
    "                    if scores[0][i] == i+1:\n",
    "                        pre.append(str_list[0][i])\n",
    "            else:\n",
    "                return ''   \n",
    "            for str_x in str_list[2:] :\n",
    "                scores = [[0]*len(str_x)]*len(pre)\n",
    "                for i in range(len(str_x)):\n",
    "                    for j in range(len(pre)):\n",
    "                        if str_x[i] == pre[j]:\n",
    "                            scores[j][i] = scores[j-1][i-1]+1\n",
    "\n",
    "                if len(str_x)!= 0 :\n",
    "                    pre = []\n",
    "                    for i in scores:\n",
    "                        if scores[0][i] == i+1:\n",
    "                            pre.append(str_list[0][i])\n",
    "            res = ''\n",
    "            for w in pre:\n",
    "                res+=w\n",
    "            return res\n",
    "\n",
    "\n",
    "strs = [\"flower\",\"flow\",\"flight\"]\n",
    "sol = Solution()\n",
    "sol.longestCommonPrefix(strs)"
   ]
  },
  {
   "cell_type": "code",
   "execution_count": 59,
   "metadata": {},
   "outputs": [
    {
     "name": "stdout",
     "output_type": "stream",
     "text": [
      "flo\n",
      "flo\n",
      "flo\n",
      "flo\n",
      "flo\n",
      "flo\n",
      "flo\n",
      "flo\n",
      "flo\n"
     ]
    },
    {
     "data": {
      "text/plain": [
       "'flo'"
      ]
     },
     "execution_count": 59,
     "metadata": {},
     "output_type": "execute_result"
    }
   ],
   "source": [
    "class Solution:\n",
    "    def longestCommonPrefix(self, strs: list[str]) -> str:\n",
    "        for i in range(len(strs[0])):\n",
    "            sym = strs[0][i]\n",
    "            for s in strs:\n",
    "                try:\n",
    "                    if s[i] != sym:\n",
    "                        return strs[0][:i]\n",
    "                except IndexError:\n",
    "                    return strs[0][:i]\n",
    "                print(strs[0])\n",
    "        return strs[0]\n",
    "                    \n",
    "strs = [\"flo\",\"flow\",\"flow\"]\n",
    "sol = Solution()\n",
    "sol.longestCommonPrefix(strs)"
   ]
  }
 ],
 "metadata": {
  "kernelspec": {
   "display_name": "LeetCode",
   "language": "python",
   "name": "python3"
  },
  "language_info": {
   "codemirror_mode": {
    "name": "ipython",
    "version": 3
   },
   "file_extension": ".py",
   "mimetype": "text/x-python",
   "name": "python",
   "nbconvert_exporter": "python",
   "pygments_lexer": "ipython3",
   "version": "3.10.8 (main, Nov 24 2022, 14:13:03) [GCC 11.2.0]"
  },
  "orig_nbformat": 4,
  "vscode": {
   "interpreter": {
    "hash": "f6bc879a1385e8122ad46fe8597f2eccbe0c3a28a29ee913b33b5a9ee828dd15"
   }
  }
 },
 "nbformat": 4,
 "nbformat_minor": 2
}
