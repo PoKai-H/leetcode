{
 "cells": [
  {
   "cell_type": "code",
   "execution_count": 10,
   "metadata": {},
   "outputs": [
    {
     "data": {
      "text/plain": [
       "2"
      ]
     },
     "execution_count": 10,
     "metadata": {},
     "output_type": "execute_result"
    }
   ],
   "source": [
    "class Solution:\n",
    "    def firstUniqChar(self, s: str) -> int:\n",
    "        ptr = 0\n",
    "        u_dict = {}\n",
    "        u_list = []\n",
    "        for n in range(len(s)):\n",
    "            if s[n] not in u_dict:\n",
    "                u_dict[s[n]] = [n]\n",
    "            else:\n",
    "                u_dict[s[n]].append(n)\n",
    "        for val in u_dict.values():\n",
    "            if len(val) == 1:\n",
    "                return val[0]\n",
    "        return -1\n",
    "\n",
    "sol = Solution()\n",
    "s = \"loveleetcode\"\n",
    "sol.firstUniqChar(s)"
   ]
  },
  {
   "cell_type": "code",
   "execution_count": 13,
   "metadata": {},
   "outputs": [
    {
     "data": {
      "text/plain": [
       "2"
      ]
     },
     "execution_count": 13,
     "metadata": {},
     "output_type": "execute_result"
    }
   ],
   "source": [
    "class Solution:\n",
    "    def firstUniqChar(self, s: str) -> int:\n",
    "        for i in range(len(s)):\n",
    "            if s[i] not in s[:i] and s[i] not in s[i+1:]:\n",
    "                return i\n",
    "        return -1\n",
    "\n",
    "sol = Solution()\n",
    "s = \"loveleetcode\"\n",
    "sol.firstUniqChar(s)"
   ]
  },
  {
   "cell_type": "code",
   "execution_count": 14,
   "metadata": {},
   "outputs": [
    {
     "data": {
      "text/plain": [
       "2"
      ]
     },
     "execution_count": 14,
     "metadata": {},
     "output_type": "execute_result"
    }
   ],
   "source": [
    "class Solution:\n",
    "    def firstUniqChar(self, s: str) -> int:\n",
    "        counter = {}\n",
    "        for i, ch in enumerate(s):\n",
    "            if ch in counter:\n",
    "                counter[ch] = -1\n",
    "            else:\n",
    "                counter[ch] = i\n",
    "\n",
    "        for ch in s:\n",
    "            if counter[ch]!= -1:\n",
    "                return counter[ch]\n",
    "        return -1\n",
    "\n",
    "sol = Solution()\n",
    "s = \"loveleetcode\"\n",
    "sol.firstUniqChar(s)"
   ]
  }
 ],
 "metadata": {
  "kernelspec": {
   "display_name": "LeetCode",
   "language": "python",
   "name": "python3"
  },
  "language_info": {
   "codemirror_mode": {
    "name": "ipython",
    "version": 3
   },
   "file_extension": ".py",
   "mimetype": "text/x-python",
   "name": "python",
   "nbconvert_exporter": "python",
   "pygments_lexer": "ipython3",
   "version": "3.10.8"
  },
  "orig_nbformat": 4,
  "vscode": {
   "interpreter": {
    "hash": "f6bc879a1385e8122ad46fe8597f2eccbe0c3a28a29ee913b33b5a9ee828dd15"
   }
  }
 },
 "nbformat": 4,
 "nbformat_minor": 2
}
